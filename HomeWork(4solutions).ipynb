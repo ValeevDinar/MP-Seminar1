{
 "cells": [
  {
   "cell_type": "markdown",
   "metadata": {},
   "source": [
    "Solution of Exercise 33 \"Birthday Dictionaries\""
   ]
  },
  {
   "cell_type": "code",
   "execution_count": 13,
   "metadata": {},
   "outputs": [
    {
     "name": "stdout",
     "output_type": "stream",
     "text": [
      ">>>>>Welcome to the birthday dictionary. We know the birthdays of:\n",
      "\n",
      "Mel Gibson\n",
      "Michael Schumacher\n",
      "Julia Ormond\n",
      "Elvis Presley\n",
      "Albert Einstein\n",
      "Al Pacino\n",
      "\n",
      ">>>>>>>> Who's birthday do you want to look up?\n",
      "Albert Einstein\n",
      ">>>>>Albert Einstein's birthday is 14/03/1879 \n"
     ]
    }
   ],
   "source": [
    "Dictionary={\n",
    "    \n",
    "    \"Mel Gibson\" : \"03/01/1956\",\n",
    "    \"Michael Schumacher\" : \"03/01/1969\",\n",
    "    \"Julia Ormond\" : \"04/01/1965\",\n",
    "    \"Elvis Presley\" : \"08/01/1965\",\n",
    "    \"Albert Einstein\" : \"14/03/1879\",\n",
    "    \"Al Pacino\" : \"25/04/1940\"    \n",
    "}\n",
    "\n",
    "print(\">>>>>Welcome to the birthday dictionary. We know the birthdays of:\\n\")\n",
    "for x in Dictionary:\n",
    "    print(x)\n",
    "\n",
    "print(\"\\n>>>>>>>> Who's birthday do you want to look up?\") \n",
    "name=input()\n",
    "\n",
    "if name in Dictionary:\n",
    "    print(\">>>>>%s's birthday is %s \"%(name,Dictionary[name]))\n",
    "else:\n",
    "    print(\"\\nI don't know who is it\")\n"
   ]
  },
  {
   "cell_type": "markdown",
   "metadata": {},
   "source": [
    "Solution of Exercise 13 \"Fibonacci\""
   ]
  },
  {
   "cell_type": "code",
   "execution_count": 43,
   "metadata": {},
   "outputs": [
    {
     "name": "stdout",
     "output_type": "stream",
     "text": [
      ">>>How numbers of Fibonacci printing?\n",
      "9\n",
      "Here is your list of numbers:\n",
      "[1, 1, 2, 3, 5, 8, 13, 21, 34]\n"
     ]
    }
   ],
   "source": [
    "def GenFibonacci():\n",
    "    print(\">>>How numbers of Fibonacci printing?\")\n",
    "    count=int(input())\n",
    "    fib=[]\n",
    "    if count==1:\n",
    "        fib=[1]\n",
    "    if count==2:\n",
    "        fib=[1,1]\n",
    "    else:\n",
    "        if count>2:\n",
    "            fib=[1,1]\n",
    "            for i in range(count-2):\n",
    "                fib.append(fib[i]+fib[i+1])\n",
    "    print(\"Here is your list of numbers:\")\n",
    "    print(fib)\n",
    "    \n",
    "GenFibonacci()    "
   ]
  },
  {
   "cell_type": "markdown",
   "metadata": {},
   "source": [
    "Solution of Exercise 15 \"Reverse Word Order strings\""
   ]
  },
  {
   "cell_type": "code",
   "execution_count": 60,
   "metadata": {},
   "outputs": [
    {
     "name": "stdout",
     "output_type": "stream",
     "text": [
      "Please, print string for reversing:\n",
      "Шла Саша по шоссе\n",
      "Here is your reversed sentence\n",
      " шоссе по Саша Шла\n"
     ]
    }
   ],
   "source": [
    "def Reverse():\n",
    "    inputstr=input(\"Please, print string for reversing:\\n\");\n",
    "    str1=inputstr.split(\" \")\n",
    "    x=len(str1)-1\n",
    "    result=''\n",
    "    while x>-1:\n",
    "        result+=' '+str1[x]\n",
    "        x-=1\n",
    "    print(\"Here is your reversed sentence\")\n",
    "    print(result)    \n",
    "\n",
    "Reverse()        "
   ]
  },
  {
   "cell_type": "markdown",
   "metadata": {},
   "source": [
    "Solution of Exercise 16 \"Password Generator\""
   ]
  },
  {
   "cell_type": "code",
   "execution_count": 110,
   "metadata": {
    "scrolled": true
   },
   "outputs": [
    {
     "name": "stdout",
     "output_type": "stream",
     "text": [
      "Do you need a password? |Yes| or |No| \n",
      "Yes\n",
      "\n",
      "Do you need a complicated password? |Yes| or |No| \n",
      "No\n",
      "\n",
      "Here is your password:\n",
      " right\n"
     ]
    }
   ],
   "source": [
    "import random\n",
    "def GenerationPassword(num):\n",
    "    if num==10:\n",
    "        listwords=[\"other\",\"our\",\"out\",\"over\",\"own\",\"part\",\"people\",\n",
    "                   \"place\",\"put\",\"read\",\"right\",\"said\",\"same\",\"saw\",\n",
    "                   \"say\",\"see\",\"she\",\"should\",\"show\",\"small\",\"so\",\n",
    "                   \"some\",\"someth\",\"sound\",\"still\"]\n",
    "        k=int(random.random()*101%2+1);\n",
    "        result=\"\".join(random.sample(listwords,k ))\n",
    "    else:\n",
    "        symbols=\"ABCDEFGHIJKLMNOPQRSTUVWXYZabcdefghijklmnopqrstuvwxyz1234567890,./><?:;\"*15\n",
    "        count=int(random.random()*1000%7+8);\n",
    "        result=\"\".join(random.sample(symbols,count))\n",
    "    print(\"\\nHere is your password:\\n %s\" %result)    \n",
    "        \n",
    "        \n",
    "\n",
    "\n",
    "\n",
    "\n",
    "\n",
    "def Questionnaire():\n",
    "    print(\"Do you need a password? |Yes| or |No| \")\n",
    "    inp=input();\n",
    "    if inp==\"No\":\n",
    "        print(\"I did everything I could\")\n",
    "    elif (inp!=\"Yes\" and inp!=\"No\"):\n",
    "        print(\"I do not understand\")\n",
    "    elif inp==\"Yes\":\n",
    "        print(\"\\nDo you need a complicated password? |Yes| or |No| \")\n",
    "        number=input()\n",
    "        if number==\"No\":\n",
    "            GenerationPassword(10)\n",
    "        elif number==\"Yes\":\n",
    "            GenerationPassword(-10)   \n",
    "        elif (number!=\"Yes\" and inp!=\"No\"):\n",
    "            print(\"I do not understand\")\n",
    "        \n",
    "        \n",
    "\n",
    "        \n",
    "        \n",
    "        \n",
    "Questionnaire()        "
   ]
  }
 ],
 "metadata": {
  "kernelspec": {
   "display_name": "Python 3",
   "language": "python",
   "name": "python3"
  },
  "language_info": {
   "codemirror_mode": {
    "name": "ipython",
    "version": 3
   },
   "file_extension": ".py",
   "mimetype": "text/x-python",
   "name": "python",
   "nbconvert_exporter": "python",
   "pygments_lexer": "ipython3",
   "version": "3.6.1"
  }
 },
 "nbformat": 4,
 "nbformat_minor": 2
}
