{
 "cells": [
  {
   "cell_type": "code",
   "execution_count": 2,
   "metadata": {},
   "outputs": [
    {
     "name": "stdout",
     "output_type": "stream",
     "text": [
      "7.0\n",
      "7\n"
     ]
    }
   ],
   "source": [
    "myfloat = 7.0\n",
    "print(myfloat)\n",
    "myfloat = int(7)\n",
    "print(myfloat)"
   ]
  },
  {
   "cell_type": "code",
   "execution_count": 5,
   "metadata": {},
   "outputs": [
    {
     "name": "stdout",
     "output_type": "stream",
     "text": [
      "hello\n",
      "hello\n"
     ]
    }
   ],
   "source": [
    "mystring = 'hello'\n",
    "print(mystring)\n",
    "mystring = \"hello\"\n",
    "print(mystring)"
   ]
  },
  {
   "cell_type": "code",
   "execution_count": 7,
   "metadata": {},
   "outputs": [
    {
     "name": "stdout",
     "output_type": "stream",
     "text": [
      "Don't worry about apostrophes\n"
     ]
    }
   ],
   "source": [
    "mystring = \"Don't worry about apostrophes\"\n",
    "print(mystring)"
   ]
  },
  {
   "cell_type": "code",
   "execution_count": 8,
   "metadata": {},
   "outputs": [
    {
     "ename": "SyntaxError",
     "evalue": "invalid syntax (<ipython-input-8-2edb5df9a155>, line 1)",
     "output_type": "error",
     "traceback": [
      "\u001b[1;36m  File \u001b[1;32m\"<ipython-input-8-2edb5df9a155>\"\u001b[1;36m, line \u001b[1;32m1\u001b[0m\n\u001b[1;33m    mystring = 'Don't worry about apostrophes'\u001b[0m\n\u001b[1;37m                    ^\u001b[0m\n\u001b[1;31mSyntaxError\u001b[0m\u001b[1;31m:\u001b[0m invalid syntax\n"
     ]
    }
   ],
   "source": [
    "mystring = 'Don't worry about apostrophes'\n",
    "print(mystring)"
   ]
  },
  {
   "cell_type": "code",
   "execution_count": 9,
   "metadata": {},
   "outputs": [
    {
     "name": "stdout",
     "output_type": "stream",
     "text": [
      "3\n",
      "hello world\n"
     ]
    }
   ],
   "source": [
    "one = 1\n",
    "two = 2\n",
    "three = one + two\n",
    "print(three)\n",
    "\n",
    "hello = \"hello\"\n",
    "world = \"world\"\n",
    "helloworld = hello + \" \" + world\n",
    "print(helloworld)"
   ]
  },
  {
   "cell_type": "code",
   "execution_count": 12,
   "metadata": {},
   "outputs": [
    {
     "name": "stdout",
     "output_type": "stream",
     "text": [
      "sdfs 4\n"
     ]
    }
   ],
   "source": [
    "a, b = 'sdfs', 4\n",
    "print(a,b)"
   ]
  },
  {
   "cell_type": "code",
   "execution_count": 13,
   "metadata": {},
   "outputs": [
    {
     "ename": "TypeError",
     "evalue": "unsupported operand type(s) for +: 'int' and 'str'",
     "output_type": "error",
     "traceback": [
      "\u001b[1;31m---------------------------------------------------------------------------\u001b[0m",
      "\u001b[1;31mTypeError\u001b[0m                                 Traceback (most recent call last)",
      "\u001b[1;32m<ipython-input-13-f9ccd0024ed7>\u001b[0m in \u001b[0;36m<module>\u001b[1;34m()\u001b[0m\n\u001b[0;32m      3\u001b[0m \u001b[0mhello\u001b[0m \u001b[1;33m=\u001b[0m \u001b[1;34m\"hello\"\u001b[0m\u001b[1;33m\u001b[0m\u001b[0m\n\u001b[0;32m      4\u001b[0m \u001b[1;33m\u001b[0m\u001b[0m\n\u001b[1;32m----> 5\u001b[1;33m \u001b[0mprint\u001b[0m\u001b[1;33m(\u001b[0m\u001b[0mone\u001b[0m \u001b[1;33m+\u001b[0m \u001b[0mtwo\u001b[0m \u001b[1;33m+\u001b[0m \u001b[0mhello\u001b[0m\u001b[1;33m)\u001b[0m\u001b[1;33m\u001b[0m\u001b[0m\n\u001b[0m",
      "\u001b[1;31mTypeError\u001b[0m: unsupported operand type(s) for +: 'int' and 'str'"
     ]
    }
   ],
   "source": [
    "one = 1\n",
    "two = 2\n",
    "hello = \"hello\"\n",
    "\n",
    "print(one + two + hello)"
   ]
  },
  {
   "cell_type": "code",
   "execution_count": 14,
   "metadata": {},
   "outputs": [
    {
     "name": "stdout",
     "output_type": "stream",
     "text": [
      "3 hello\n"
     ]
    }
   ],
   "source": [
    "one = 1\n",
    "two = 2\n",
    "hello = \"hello\"\n",
    "\n",
    "print(one + two , hello)"
   ]
  },
  {
   "cell_type": "code",
   "execution_count": 15,
   "metadata": {},
   "outputs": [
    {
     "name": "stdout",
     "output_type": "stream",
     "text": [
      "String: hello\n",
      "Integer: 20\n"
     ]
    }
   ],
   "source": [
    "mystring = 'hello'\n",
    "myfloat = 10\n",
    "myint = 20\n",
    "\n",
    "if mystring == \"hello\":\n",
    "    print(\"String: %s\" % mystring)\n",
    "if isinstance(myfloat, float) and myfloat == 10.0:\n",
    "    print(\"Float: %f\" % myfloat)\n",
    "if isinstance(myint, int) and myint == 20:\n",
    "    print(\"Integer: %d\" % myint)"
   ]
  },
  {
   "cell_type": "code",
   "execution_count": 16,
   "metadata": {},
   "outputs": [
    {
     "name": "stdout",
     "output_type": "stream",
     "text": [
      "String: hello\n",
      "Float: 10.000000\n",
      "Integer: 20\n"
     ]
    }
   ],
   "source": [
    "mystring = 'hello'\n",
    "myfloat = 10.0\n",
    "myint = 20\n",
    "\n",
    "if mystring == \"hello\":\n",
    "    print(\"String: %s\" % mystring)\n",
    "if isinstance(myfloat, float) and myfloat == 10.0:\n",
    "    print(\"Float: %f\" % myfloat)\n",
    "if isinstance(myint, int) and myint == 20:\n",
    "    print(\"Integer: %d\" % myint)"
   ]
  },
  {
   "cell_type": "code",
   "execution_count": 23,
   "metadata": {},
   "outputs": [
    {
     "name": "stdout",
     "output_type": "stream",
     "text": [
      "7\n",
      "4\n",
      "8\n",
      "17\n",
      "14\n",
      "18\n"
     ]
    }
   ],
   "source": [
    "mylist = []\n",
    "mylist.append(7)\n",
    "mylist.append(4)\n",
    "mylist.append(8)\n",
    "\n",
    "print(mylist[0]) \n",
    "print(mylist[1]) \n",
    "print(mylist[2]) \n",
    "\n",
    "for x in mylist:\n",
    "    print(x+10)"
   ]
  },
  {
   "cell_type": "code",
   "execution_count": 24,
   "metadata": {},
   "outputs": [
    {
     "ename": "IndexError",
     "evalue": "list index out of range",
     "output_type": "error",
     "traceback": [
      "\u001b[1;31m---------------------------------------------------------------------------\u001b[0m",
      "\u001b[1;31mIndexError\u001b[0m                                Traceback (most recent call last)",
      "\u001b[1;32m<ipython-input-24-5d54358a6869>\u001b[0m in \u001b[0;36m<module>\u001b[1;34m()\u001b[0m\n\u001b[0;32m      1\u001b[0m \u001b[0mmylist\u001b[0m \u001b[1;33m=\u001b[0m \u001b[1;33m[\u001b[0m\u001b[1;36m1\u001b[0m\u001b[1;33m,\u001b[0m\u001b[1;36m2\u001b[0m\u001b[1;33m,\u001b[0m\u001b[1;36m3\u001b[0m\u001b[1;33m]\u001b[0m\u001b[1;33m\u001b[0m\u001b[0m\n\u001b[1;32m----> 2\u001b[1;33m \u001b[0mprint\u001b[0m\u001b[1;33m(\u001b[0m\u001b[0mmylist\u001b[0m\u001b[1;33m[\u001b[0m\u001b[1;36m10\u001b[0m\u001b[1;33m]\u001b[0m\u001b[1;33m)\u001b[0m\u001b[1;33m\u001b[0m\u001b[0m\n\u001b[0m",
      "\u001b[1;31mIndexError\u001b[0m: list index out of range"
     ]
    }
   ],
   "source": [
    "mylist = [1,2,3]\n",
    "print(mylist[10])"
   ]
  },
  {
   "cell_type": "code",
   "execution_count": 25,
   "metadata": {},
   "outputs": [
    {
     "ename": "IndexError",
     "evalue": "list index out of range",
     "output_type": "error",
     "traceback": [
      "\u001b[1;31m---------------------------------------------------------------------------\u001b[0m",
      "\u001b[1;31mIndexError\u001b[0m                                Traceback (most recent call last)",
      "\u001b[1;32m<ipython-input-25-55677b24288e>\u001b[0m in \u001b[0;36m<module>\u001b[1;34m()\u001b[0m\n\u001b[0;32m      1\u001b[0m \u001b[0mmylist\u001b[0m \u001b[1;33m=\u001b[0m \u001b[1;33m[\u001b[0m\u001b[1;36m1\u001b[0m\u001b[1;33m,\u001b[0m\u001b[1;36m2\u001b[0m\u001b[1;33m,\u001b[0m\u001b[1;36m3\u001b[0m\u001b[1;33m]\u001b[0m\u001b[1;33m\u001b[0m\u001b[0m\n\u001b[1;32m----> 2\u001b[1;33m \u001b[0mprint\u001b[0m\u001b[1;33m(\u001b[0m\u001b[0mmylist\u001b[0m\u001b[1;33m[\u001b[0m\u001b[1;36m3\u001b[0m\u001b[1;33m]\u001b[0m\u001b[1;33m)\u001b[0m\u001b[1;33m\u001b[0m\u001b[0m\n\u001b[0m",
      "\u001b[1;31mIndexError\u001b[0m: list index out of range"
     ]
    }
   ],
   "source": [
    "mylist = [1,2,3]\n",
    "print(mylist[3])"
   ]
  },
  {
   "cell_type": "code",
   "execution_count": 26,
   "metadata": {},
   "outputs": [
    {
     "ename": "SyntaxError",
     "evalue": "invalid syntax (<ipython-input-26-140089fae6a9>, line 2)",
     "output_type": "error",
     "traceback": [
      "\u001b[1;36m  File \u001b[1;32m\"<ipython-input-26-140089fae6a9>\"\u001b[1;36m, line \u001b[1;32m2\u001b[0m\n\u001b[1;33m    print(mylist[])\u001b[0m\n\u001b[1;37m                 ^\u001b[0m\n\u001b[1;31mSyntaxError\u001b[0m\u001b[1;31m:\u001b[0m invalid syntax\n"
     ]
    }
   ],
   "source": [
    "mylist = [1,2,3]\n",
    "print(mylist[])"
   ]
  },
  {
   "cell_type": "code",
   "execution_count": 27,
   "metadata": {},
   "outputs": [
    {
     "name": "stdout",
     "output_type": "stream",
     "text": [
      "[1, 2, 3]\n"
     ]
    }
   ],
   "source": [
    "mylist = [1,2,3]\n",
    "print(mylist)"
   ]
  },
  {
   "cell_type": "code",
   "execution_count": 28,
   "metadata": {},
   "outputs": [
    {
     "name": "stdout",
     "output_type": "stream",
     "text": [
      "[4, 6, 8, 10, 2, 1]\n",
      "['ddssd', 'sddfsd', 'xxxxssx']\n",
      "The second name on the names list is Eric\n"
     ]
    }
   ],
   "source": [
    "numbers = [4,6,8,10,2,1]\n",
    "strings = ['ddssd','sddfsd','xxxxssx']\n",
    "names = [\"John\", \"Eric\", \"Jessica\"]\n",
    "\n",
    "\n",
    "second_name = names[numbers[5]]\n",
    "\n",
    "\n",
    "\n",
    "print(numbers)\n",
    "print(strings)\n",
    "\n",
    "print(\"The second name on the names list is %s\" % second_name)"
   ]
  },
  {
   "cell_type": "code",
   "execution_count": 30,
   "metadata": {},
   "outputs": [
    {
     "name": "stdout",
     "output_type": "stream",
     "text": [
      "2.25\n"
     ]
    }
   ],
   "source": [
    "number = (1 + 2) * 3 / 4.0\n",
    "print(number)"
   ]
  },
  {
   "cell_type": "code",
   "execution_count": 35,
   "metadata": {},
   "outputs": [
    {
     "name": "stdout",
     "output_type": "stream",
     "text": [
      "2\n"
     ]
    }
   ],
   "source": [
    "remainder = 11 % 3\n",
    "print(remainder)"
   ]
  },
  {
   "cell_type": "code",
   "execution_count": 37,
   "metadata": {},
   "outputs": [
    {
     "name": "stdout",
     "output_type": "stream",
     "text": [
      "hello hello hello hello hello hello hello hello hello hello \n"
     ]
    }
   ],
   "source": [
    "lotsofhellos = \"hello \" * 10\n",
    "print(lotsofhellos)"
   ]
  },
  {
   "cell_type": "code",
   "execution_count": 40,
   "metadata": {},
   "outputs": [
    {
     "name": "stdout",
     "output_type": "stream",
     "text": [
      "[1, 3, 5, 7, 2, 4, 6, 8]\n"
     ]
    }
   ],
   "source": [
    "even_numbers = [2,4,6,8]\n",
    "odd_numbers = [1,3,5,7]\n",
    "all_numbers = odd_numbers + even_numbers\n",
    "print(all_numbers)"
   ]
  },
  {
   "cell_type": "code",
   "execution_count": 41,
   "metadata": {},
   "outputs": [
    {
     "name": "stdout",
     "output_type": "stream",
     "text": [
      "[1, 2, 3, 1, 2, 3, 1, 2, 3]\n"
     ]
    }
   ],
   "source": [
    "print([1,2,3] * 3)"
   ]
  },
  {
   "cell_type": "code",
   "execution_count": 44,
   "metadata": {},
   "outputs": [
    {
     "name": "stdout",
     "output_type": "stream",
     "text": [
      "[2, 4, 6]\n"
     ]
    }
   ],
   "source": [
    "a=[1,2,3]\n",
    "for x in range(3):\n",
    "    a[x]*=2\n",
    "print(a)    "
   ]
  },
  {
   "cell_type": "code",
   "execution_count": 54,
   "metadata": {},
   "outputs": [
    {
     "name": "stdout",
     "output_type": "stream",
     "text": [
      "x_list contains 10 objects\n",
      "y_list contains 10 objects\n",
      "big_list contains 20 objects\n",
      "Almost there...\n",
      "Great!\n"
     ]
    }
   ],
   "source": [
    "x = object()\n",
    "y = object()\n",
    "\n",
    "\n",
    "x_list = [x]*10\n",
    "y_list = [y]*10\n",
    "big_list = x_list+y_list\n",
    "\n",
    "print(\"x_list contains %d objects\" % len(x_list))\n",
    "print(\"y_list contains %d objects\" % len(y_list))\n",
    "print(\"big_list contains %d objects\" % len(big_list))\n",
    "\n",
    "\n",
    "if x_list.count(x) == 10 and y_list.count(y) == 10:\n",
    "    print(\"Almost there...\")\n",
    "if big_list.count(x) == 10 and big_list.count(y) == 10:\n",
    "    print(\"Great!\")"
   ]
  },
  {
   "cell_type": "code",
   "execution_count": 55,
   "metadata": {},
   "outputs": [
    {
     "name": "stdout",
     "output_type": "stream",
     "text": [
      "Hello, John!\n"
     ]
    }
   ],
   "source": [
    "name = \"John\"\n",
    "print(\"Hello, %s!\" % name)"
   ]
  },
  {
   "cell_type": "code",
   "execution_count": 56,
   "metadata": {},
   "outputs": [
    {
     "name": "stdout",
     "output_type": "stream",
     "text": [
      "Hello, ['John', 'Sandra', 'Egorka']!\n"
     ]
    }
   ],
   "source": [
    "name =[ \"John\",\"Sandra\",\"Egorka\"]\n",
    "print(\"Hello, %s!\" % name)"
   ]
  },
  {
   "cell_type": "code",
   "execution_count": 58,
   "metadata": {},
   "outputs": [
    {
     "name": "stdout",
     "output_type": "stream",
     "text": [
      "Hello, John!\n",
      "Hello, Sandra!\n",
      "Hello, Egorka!\n"
     ]
    }
   ],
   "source": [
    "name =[ \"John\",\"Sandra\",\"Egorka\"]\n",
    "for x in name:\n",
    "    print(\"Hello, %s!\" % x)"
   ]
  },
  {
   "cell_type": "code",
   "execution_count": 59,
   "metadata": {},
   "outputs": [
    {
     "name": "stdout",
     "output_type": "stream",
     "text": [
      "John is 23 years old.\n"
     ]
    }
   ],
   "source": [
    "name = \"John\"\n",
    "age = 23\n",
    "print(\"%s is %d years old.\" % (name, age))"
   ]
  },
  {
   "cell_type": "code",
   "execution_count": 64,
   "metadata": {},
   "outputs": [
    {
     "name": "stdout",
     "output_type": "stream",
     "text": [
      "John is 23 years old.\n"
     ]
    }
   ],
   "source": [
    "name = 'John'\n",
    "age = 23\n",
    "print(\"%s is %d years old.\" % (name,age))"
   ]
  },
  {
   "cell_type": "code",
   "execution_count": 69,
   "metadata": {},
   "outputs": [
    {
     "ename": "SyntaxError",
     "evalue": "invalid syntax (<ipython-input-69-7a2646936146>, line 3)",
     "output_type": "error",
     "traceback": [
      "\u001b[1;36m  File \u001b[1;32m\"<ipython-input-69-7a2646936146>\"\u001b[1;36m, line \u001b[1;32m3\u001b[0m\n\u001b[1;33m    print(\"A list: %s\" % for x in mylist:\u001b[0m\n\u001b[1;37m                           ^\u001b[0m\n\u001b[1;31mSyntaxError\u001b[0m\u001b[1;31m:\u001b[0m invalid syntax\n"
     ]
    }
   ],
   "source": [
    "\n",
    "mylist = [1,2,3]\n",
    "print(\"A list: %s\" % for x in mylist:\n",
    "     x)"
   ]
  },
  {
   "cell_type": "code",
   "execution_count": 70,
   "metadata": {},
   "outputs": [
    {
     "name": "stdout",
     "output_type": "stream",
     "text": [
      "A list: [1, 2, 3]\n"
     ]
    }
   ],
   "source": [
    "\n",
    "mylist = [1,2,3]\n",
    "print(\"A list: %s\" % mylist)"
   ]
  },
  {
   "cell_type": "code",
   "execution_count": 79,
   "metadata": {},
   "outputs": [
    {
     "name": "stdout",
     "output_type": "stream",
     "text": [
      "Hello John Doe. Your current balance is 53.44   D\n"
     ]
    }
   ],
   "source": [
    "data = (\"John\", \"Doe\", 53.44,13)\n",
    "format_string = \"Hello\"\n",
    "\n",
    "print(format_string+\" %s %s. Your current balance is %.2f   %X\" % data)"
   ]
  },
  {
   "cell_type": "code",
   "execution_count": 80,
   "metadata": {
    "collapsed": true
   },
   "outputs": [],
   "source": [
    "astring = \"Hello world!\"\n",
    "astring2 = 'Hello world!'"
   ]
  },
  {
   "cell_type": "code",
   "execution_count": 81,
   "metadata": {},
   "outputs": [
    {
     "name": "stdout",
     "output_type": "stream",
     "text": [
      "single quotes are ' '\n",
      "12\n"
     ]
    }
   ],
   "source": [
    "astring = \"Hello world!\"\n",
    "print(\"single quotes are ' '\")\n",
    "\n",
    "print(len(astring))"
   ]
  },
  {
   "cell_type": "code",
   "execution_count": 88,
   "metadata": {},
   "outputs": [
    {
     "name": "stdout",
     "output_type": "stream",
     "text": [
      "9\n"
     ]
    }
   ],
   "source": [
    "astring = \"Hello world!\"\n",
    "print(astring.index(\"ld\"))"
   ]
  },
  {
   "cell_type": "code",
   "execution_count": 95,
   "metadata": {},
   "outputs": [
    {
     "name": "stdout",
     "output_type": "stream",
     "text": [
      "2\n"
     ]
    }
   ],
   "source": [
    "astring = \"Hello wor ld!\"\n",
    "print(astring.count(\" \"))"
   ]
  },
  {
   "cell_type": "code",
   "execution_count": 112,
   "metadata": {},
   "outputs": [
    {
     "name": "stdout",
     "output_type": "stream",
     "text": [
      "Hello worl\n"
     ]
    }
   ],
   "source": [
    "astring = \"Hello world!\"\n",
    "print(astring[:10])"
   ]
  },
  {
   "cell_type": "code",
   "execution_count": 104,
   "metadata": {},
   "outputs": [
    {
     "name": "stdout",
     "output_type": "stream",
     "text": [
      "l\n"
     ]
    }
   ],
   "source": [
    "astring = \"Hello world!\"\n",
    "print(astring[3:7:4])"
   ]
  },
  {
   "cell_type": "code",
   "execution_count": 113,
   "metadata": {},
   "outputs": [
    {
     "name": "stdout",
     "output_type": "stream",
     "text": [
      "lo wo\n"
     ]
    }
   ],
   "source": [
    "astring = \"Hello world!\"\n",
    "print(astring[3:-4])"
   ]
  },
  {
   "cell_type": "code",
   "execution_count": 121,
   "metadata": {},
   "outputs": [
    {
     "name": "stdout",
     "output_type": "stream",
     "text": [
      "2345678\n",
      "0123456789\n"
     ]
    }
   ],
   "source": [
    "astring = \"0123456789\"\n",
    "print(astring[2:9])\n",
    "print(astring[0::1])"
   ]
  },
  {
   "cell_type": "code",
   "execution_count": 122,
   "metadata": {},
   "outputs": [
    {
     "name": "stdout",
     "output_type": "stream",
     "text": [
      "!dlrow olleH\n"
     ]
    }
   ],
   "source": [
    "astring = \"Hello world!\"\n",
    "print(astring[::-1])"
   ]
  },
  {
   "cell_type": "code",
   "execution_count": 123,
   "metadata": {},
   "outputs": [
    {
     "name": "stdout",
     "output_type": "stream",
     "text": [
      "HELLO WORLD!\n",
      "hello world!\n"
     ]
    }
   ],
   "source": [
    "astring = \"Hello world!\"\n",
    "print(astring.upper())\n",
    "print(astring.lower())"
   ]
  },
  {
   "cell_type": "code",
   "execution_count": 129,
   "metadata": {},
   "outputs": [
    {
     "name": "stdout",
     "output_type": "stream",
     "text": [
      "False\n",
      "True\n"
     ]
    }
   ],
   "source": [
    "astring = \"Hello world!\"\n",
    "print(astring.startswith(\"ello\"))\n",
    "print(astring.endswith(\"d!\"))"
   ]
  },
  {
   "cell_type": "code",
   "execution_count": 130,
   "metadata": {
    "collapsed": true
   },
   "outputs": [],
   "source": [
    "astring = \"Hello world!\"\n",
    "afewwords = astring.split(\" \")"
   ]
  },
  {
   "cell_type": "code",
   "execution_count": 131,
   "metadata": {},
   "outputs": [
    {
     "name": "stdout",
     "output_type": "stream",
     "text": [
      "['Hello', 'world!']\n"
     ]
    }
   ],
   "source": [
    "print(afewwords)"
   ]
  },
  {
   "cell_type": "code",
   "execution_count": 135,
   "metadata": {},
   "outputs": [
    {
     "name": "stdout",
     "output_type": "stream",
     "text": [
      "Helloworld!\n"
     ]
    }
   ],
   "source": [
    "print(afewwords[0]+afewwords[1])"
   ]
  },
  {
   "cell_type": "code",
   "execution_count": 137,
   "metadata": {
    "collapsed": true
   },
   "outputs": [],
   "source": [
    "astring = \"Hello world!\"\n",
    "afewwords = astring.split(\"l\")"
   ]
  },
  {
   "cell_type": "code",
   "execution_count": 138,
   "metadata": {},
   "outputs": [
    {
     "name": "stdout",
     "output_type": "stream",
     "text": [
      "He\n",
      "\n",
      "o wor\n",
      "d!\n"
     ]
    }
   ],
   "source": [
    "for x in afewwords:\n",
    "    print(x)"
   ]
  },
  {
   "cell_type": "code",
   "execution_count": 143,
   "metadata": {},
   "outputs": [
    {
     "name": "stdout",
     "output_type": "stream",
     "text": [
      "Length of s = 20\n",
      "The first occurrence of the letter a = 8\n",
      "a occurs 2 times\n",
      "The first five characters are 'bsdf '\n",
      "The next five characters are 'hjkaq'\n",
      "The thirteenth character is 'r'\n",
      "The characters with odd index are 'sfhkq tulp'\n",
      "The last five characters are 'uilop'\n",
      "String in uppercase: BSDF HJKAQW RTAUILOP\n",
      "String in lowercase: bsdf hjkaqw rtauilop\n",
      "Split the words of the string: ['bsdf', 'hjkaqw', 'rtauilop']\n"
     ]
    }
   ],
   "source": [
    "s = \"bsdf hjkaqw rtauilop\"\n",
    "# Length should be 20\n",
    "print(\"Length of s = %d\" % len(s))\n",
    "\n",
    "# First occurrence of \"a\" should be at index 8\n",
    "print(\"The first occurrence of the letter a = %d\" % s.index(\"a\"))\n",
    "\n",
    "# Number of a's should be 2\n",
    "print(\"a occurs %d times\" % s.count(\"a\"))\n",
    "\n",
    "# Slicing the string into bits\n",
    "print(\"The first five characters are '%s'\" % s[:5]) # Start to 5\n",
    "print(\"The next five characters are '%s'\" % s[5:10]) # 5 to 10\n",
    "print(\"The thirteenth character is '%s'\" % s[12]) # Just number 12\n",
    "print(\"The characters with odd index are '%s'\" %s[1::2]) #(0-based indexing)\n",
    "print(\"The last five characters are '%s'\" % s[-5:]) # 5th-from-last to end\n",
    "\n",
    "# Convert everything to uppercase\n",
    "print(\"String in uppercase: %s\" % s.upper())\n",
    "\n",
    "# Convert everything to lowercase\n",
    "print(\"String in lowercase: %s\" % s.lower())\n",
    "\n",
    "# Check how a string starts\n",
    "if s.startswith(\"Str\"):\n",
    "    print(\"String starts with 'Str'. Good!\")\n",
    "\n",
    "# Check how a string ends\n",
    "if s.endswith(\"ome!\"):\n",
    "    print(\"String ends with 'ome!'. Good!\")\n",
    "\n",
    "# Split the string into three separate strings,\n",
    "# each containing only a word\n",
    "print(\"Split the words of the string: %s\" % s.split(\" \"))"
   ]
  },
  {
   "cell_type": "code",
   "execution_count": 145,
   "metadata": {},
   "outputs": [
    {
     "name": "stdout",
     "output_type": "stream",
     "text": [
      "False\n",
      "False\n",
      "False\n"
     ]
    }
   ],
   "source": [
    "x = 5\n",
    "print(x == 2) \n",
    "print(x == 3) \n",
    "print(x < 3) "
   ]
  },
  {
   "cell_type": "code",
   "execution_count": 147,
   "metadata": {},
   "outputs": [
    {
     "name": "stdout",
     "output_type": "stream",
     "text": [
      "Your name is either John or Rick.\n"
     ]
    }
   ],
   "source": [
    "name = \"Rick\"\n",
    "age = 23\n",
    "if name == \"John\" and age == 23:\n",
    "    print(\"Your name is John, and you are also 23 years old.\")\n",
    "\n",
    "if name == \"John\" or name == \"Rick\":\n",
    "    print(\"Your name is either John or Rick.\")"
   ]
  },
  {
   "cell_type": "code",
   "execution_count": 154,
   "metadata": {},
   "outputs": [
    {
     "name": "stdout",
     "output_type": "stream",
     "text": [
      "False\n",
      "False\n"
     ]
    }
   ],
   "source": [
    "x = [1,2,3]\n",
    "y = [1,3,2]\n",
    "print(x == y)\n",
    "print(x is y)"
   ]
  },
  {
   "cell_type": "code",
   "execution_count": 157,
   "metadata": {},
   "outputs": [
    {
     "name": "stdout",
     "output_type": "stream",
     "text": [
      "False\n",
      "True\n"
     ]
    }
   ],
   "source": [
    "x = [1,2,3]\n",
    "y = [1,2,3]\n",
    "print(x == y) \n",
    "print(x is y) "
   ]
  },
  {
   "cell_type": "code",
   "execution_count": 159,
   "metadata": {},
   "outputs": [
    {
     "name": "stdout",
     "output_type": "stream",
     "text": [
      "True\n",
      "False\n"
     ]
    }
   ],
   "source": [
    "print(not False)\n",
    "print((not False) == (False))"
   ]
  },
  {
   "cell_type": "code",
   "execution_count": 171,
   "metadata": {},
   "outputs": [
    {
     "name": "stdout",
     "output_type": "stream",
     "text": [
      "1\n",
      "2\n",
      "3\n",
      "4\n",
      "5\n",
      "6\n"
     ]
    }
   ],
   "source": [
    "number = 19\n",
    "second_number =0\n",
    "first_array = [1,6,7]\n",
    "second_array = [1,2]\n",
    "\n",
    "if number > 15:\n",
    "    print(\"1\")\n",
    "\n",
    "if first_array:\n",
    "    print(\"2\")\n",
    "else:\n",
    "    print(\"2.er\")\n",
    "\n",
    "if len(second_array) == 2:\n",
    "    print(\"3\")\n",
    "\n",
    "if len(first_array) + len(second_array) == 5:\n",
    "    print(\"4\")\n",
    "\n",
    "if first_array and first_array[0] == 1:\n",
    "    print(\"5\")\n",
    "\n",
    "if not second_number:\n",
    "    print(\"6\")"
   ]
  },
  {
   "cell_type": "code",
   "execution_count": 172,
   "metadata": {},
   "outputs": [
    {
     "name": "stdout",
     "output_type": "stream",
     "text": [
      "0\n",
      "1\n",
      "2\n",
      "3\n",
      "4\n",
      "3\n",
      "4\n",
      "5\n",
      "3\n",
      "5\n",
      "7\n"
     ]
    }
   ],
   "source": [
    "# Prints out the numbers 0,1,2,3,4\n",
    "for x in range(5):\n",
    "    print(x)\n",
    "\n",
    "# Prints out 3,4,5\n",
    "for x in range(3, 6):\n",
    "    print(x)\n",
    "\n",
    "# Prints out 3,5,7\n",
    "for x in range(3, 8, 2):\n",
    "    print(x)"
   ]
  },
  {
   "cell_type": "code",
   "execution_count": 173,
   "metadata": {},
   "outputs": [
    {
     "name": "stdout",
     "output_type": "stream",
     "text": [
      "0\n",
      "1\n",
      "2\n",
      "3\n",
      "4\n"
     ]
    }
   ],
   "source": [
    "count = 0\n",
    "while count < 5:\n",
    "    print(count)\n",
    "    count += 1 "
   ]
  },
  {
   "cell_type": "code",
   "execution_count": 176,
   "metadata": {},
   "outputs": [
    {
     "name": "stdout",
     "output_type": "stream",
     "text": [
      "0\n",
      "1\n",
      "2\n",
      "3\n",
      "4\n",
      "1\n",
      "\n",
      "3\n",
      "\n",
      "5\n",
      "\n",
      "7\n",
      "\n",
      "9\n",
      "\n"
     ]
    }
   ],
   "source": [
    "# Prints out 0,1,2,3,4\n",
    "\n",
    "count = 0\n",
    "while True:\n",
    "    print(count)\n",
    "    count += 1\n",
    "    if count >= 5:\n",
    "        break\n",
    "\n",
    "# Prints out only odd numbers - 1,3,5,7,9\n",
    "for x in range(10):\n",
    "    # Check if x is even\n",
    "    if x % 2 == 0:\n",
    "        continue\n",
    "    print(x)\n"
   ]
  },
  {
   "cell_type": "code",
   "execution_count": 177,
   "metadata": {},
   "outputs": [
    {
     "name": "stdout",
     "output_type": "stream",
     "text": [
      "0\n",
      "1\n",
      "2\n",
      "3\n",
      "4\n",
      "count value reached 5\n",
      "1\n",
      "2\n",
      "3\n",
      "4\n"
     ]
    }
   ],
   "source": [
    "count=0\n",
    "while(count<5):\n",
    "    print(count)\n",
    "    count +=1\n",
    "else:\n",
    "    print(\"count value reached %d\" %(count))\n",
    "\n",
    "# Prints out 1,2,3,4\n",
    "for i in range(1, 10):\n",
    "    if(i%5==0):\n",
    "        break\n",
    "    print(i)\n",
    "else:\n",
    "    print(\"this is not printed because for loop is terminated because of break but not due to fail in condition\")"
   ]
  },
  {
   "cell_type": "code",
   "execution_count": 179,
   "metadata": {},
   "outputs": [
    {
     "name": "stdout",
     "output_type": "stream",
     "text": [
      "402\n",
      "984\n",
      "360\n",
      "408\n",
      "980\n",
      "544\n",
      "390\n",
      "984\n",
      "592\n",
      "236\n",
      "942\n",
      "386\n",
      "462\n",
      "418\n",
      "344\n",
      "236\n",
      "566\n",
      "978\n",
      "328\n",
      "162\n",
      "758\n",
      "918\n",
      "53 100\n"
     ]
    }
   ],
   "source": [
    "numbers = [\n",
    "    951, 402, 984, 651, 360, 69, 408, 319, 601, 485, 980, 507, 725, 547, 544,\n",
    "    615, 83, 165, 141, 501, 263, 617, 865, 575, 219, 390, 984, 592, 236, 105, 942, 941,\n",
    "    386, 462, 47, 418, 907, 344, 236, 375, 823, 566, 597, 978, 328, 615, 953, 345,\n",
    "    399, 162, 758, 219, 918, 237, 412, 566, 826, 248, 866, 950, 626, 949, 687, 217,\n",
    "    815, 67, 104, 58, 512, 24, 892, 894, 767, 553, 81, 379, 843, 831, 445, 742, 717,\n",
    "    958, 609, 842, 451, 688, 753, 854, 685, 93, 857, 440, 380, 126, 721, 328, 753, 470,\n",
    "    743, 527\n",
    "]\n",
    "\n",
    "for x in numbers:\n",
    "    if ((x % 2)==0):\n",
    "        print (x)\n",
    "    if (x==237):\n",
    "        break\n",
    "print(numbers.index(237),len(numbers))"
   ]
  },
  {
   "cell_type": "code",
   "execution_count": 180,
   "metadata": {
    "collapsed": true
   },
   "outputs": [],
   "source": [
    "def my_function_with_args(username, greeting):\n",
    "    print(\"Hello, %s , From My Function!, I wish you %s\"%(username, greeting))"
   ]
  },
  {
   "cell_type": "code",
   "execution_count": 183,
   "metadata": {},
   "outputs": [
    {
     "name": "stdout",
     "output_type": "stream",
     "text": [
      "Hello, Panda , From My Function!, I wish you HDhh\n"
     ]
    }
   ],
   "source": [
    "my_function_with_args(\"Panda\", \"HDhh\")"
   ]
  },
  {
   "cell_type": "code",
   "execution_count": 182,
   "metadata": {
    "collapsed": true
   },
   "outputs": [],
   "source": [
    "def sum_two_numbers(a, b):\n",
    "    return a + b"
   ]
  },
  {
   "cell_type": "code",
   "execution_count": 185,
   "metadata": {},
   "outputs": [
    {
     "name": "stdout",
     "output_type": "stream",
     "text": [
      "Hello From My Function!\n",
      "Hello, John Doe , From My Function!, I wish you a great year!\n",
      "3\n"
     ]
    }
   ],
   "source": [
    "# Define our 3 functions\n",
    "def my_function():\n",
    "    print(\"Hello From My Function!\")\n",
    "\n",
    "def my_function_with_args(username, greeting):\n",
    "    print(\"Hello, %s , From My Function!, I wish you %s\"%(username, greeting))\n",
    "\n",
    "def sum_two_numbers(a, b):\n",
    "    return a + b\n",
    "\n",
    "# print(a simple greeting)\n",
    "my_function()\n",
    "\n",
    "#prints - \"Hello, John Doe, From My Function!, I wish you a great year!\"\n",
    "my_function_with_args(\"John Doe\", \"a great year!\")\n",
    "\n",
    "# after this line x will hold the value 3!\n",
    "x = sum_two_numbers(1,2)\n",
    "print(x)"
   ]
  },
  {
   "cell_type": "code",
   "execution_count": 189,
   "metadata": {},
   "outputs": [
    {
     "name": "stdout",
     "output_type": "stream",
     "text": [
      "More organized code is a benefit of functions!\n",
      "More readable code is a benefit of functions!\n",
      "Easier code reuse is a benefit of functions!\n",
      "Allowing programmers to share and connect code together is a benefit of functions!\n"
     ]
    }
   ],
   "source": [
    "# Modify this function to return a list of strings as defined above\n",
    "def list_benefits():\n",
    "    a=[\"More organized code\", \"More readable code\", \"Easier code reuse\", \"Allowing programmers to share and connect code together\"]\n",
    "    return a\n",
    "\n",
    "# Modify this function to concatenate to each benefit - \" is a benefit of functions!\"\n",
    "def build_sentence(info):\n",
    "    return \"%s is a benefit of functions!\" % info\n",
    "    \n",
    "\n",
    "def name_the_benefits_of_functions():\n",
    "    list_of_benefits = list_benefits()\n",
    "    for benefit in list_of_benefits:\n",
    "        print(build_sentence(benefit))\n",
    "\n",
    "name_the_benefits_of_functions()"
   ]
  },
  {
   "cell_type": "code",
   "execution_count": 190,
   "metadata": {
    "collapsed": true
   },
   "outputs": [],
   "source": [
    "class MyClass:\n",
    "    variable = \"blah\"\n",
    "\n",
    "    def function(self):\n",
    "        print(\"This is a message inside the class.\")"
   ]
  },
  {
   "cell_type": "code",
   "execution_count": 191,
   "metadata": {},
   "outputs": [
    {
     "data": {
      "text/plain": [
       "'blah'"
      ]
     },
     "execution_count": 191,
     "metadata": {},
     "output_type": "execute_result"
    }
   ],
   "source": [
    "class MyClass:\n",
    "    variable = \"blah\"\n",
    "\n",
    "    def function(self):\n",
    "        print(\"This is a message inside the class.\")\n",
    "\n",
    "myobjectx = MyClass()\n",
    "\n",
    "myobjectx.variable"
   ]
  },
  {
   "cell_type": "code",
   "execution_count": 192,
   "metadata": {},
   "outputs": [
    {
     "name": "stdout",
     "output_type": "stream",
     "text": [
      "blah\n"
     ]
    }
   ],
   "source": [
    "class MyClass:\n",
    "    variable = \"blah\"\n",
    "\n",
    "    def function(self):\n",
    "        print(\"This is a message inside the class.\")\n",
    "\n",
    "myobjectx = MyClass()\n",
    "\n",
    "print(myobjectx.variable)"
   ]
  },
  {
   "cell_type": "code",
   "execution_count": 193,
   "metadata": {},
   "outputs": [
    {
     "name": "stdout",
     "output_type": "stream",
     "text": [
      "blah\n",
      "yackity\n"
     ]
    }
   ],
   "source": [
    "class MyClass:\n",
    "    variable = \"blah\"\n",
    "\n",
    "    def function(self):\n",
    "        print(\"This is a message inside the class.\")\n",
    "\n",
    "myobjectx = MyClass()\n",
    "myobjecty = MyClass()\n",
    "\n",
    "myobjecty.variable = \"yackity\"\n",
    "\n",
    "# Then pring out both values\n",
    "print(myobjectx.variable)\n",
    "print(myobjecty.variable)"
   ]
  },
  {
   "cell_type": "code",
   "execution_count": 194,
   "metadata": {},
   "outputs": [
    {
     "name": "stdout",
     "output_type": "stream",
     "text": [
      "This is a message inside the class.\n"
     ]
    }
   ],
   "source": [
    "class MyClass:\n",
    "    variable = \"blah\"\n",
    "\n",
    "    def function(self):\n",
    "        print(\"This is a message inside the class.\")\n",
    "\n",
    "myobjectx = MyClass()\n",
    "\n",
    "myobjectx.function()"
   ]
  },
  {
   "cell_type": "code",
   "execution_count": 196,
   "metadata": {},
   "outputs": [
    {
     "name": "stdout",
     "output_type": "stream",
     "text": [
      "Fer is a Red car worth $60000.00.\n",
      "Bump is a Blue car worth $10000.00.\n"
     ]
    }
   ],
   "source": [
    "# define the Vehicle class\n",
    "class Vehicle:\n",
    "    name = \"\"\n",
    "    kind = \"car\"\n",
    "    color = \"\"\n",
    "    value = 100.00\n",
    "    def description(self):\n",
    "        desc_str = \"%s is a %s %s worth $%.2f.\" % (self.name, self.color, self.kind, self.value)\n",
    "        return desc_str\n",
    "# your code goes here\n",
    "car1=Vehicle()\n",
    "car1.name=\"Fer\"\n",
    "car1.color=\"Red\"\n",
    "car1.value=60000\n",
    "\n",
    "car2=Vehicle()\n",
    "car2.name=\"Bump\"\n",
    "car2.color=\"Blue\"\n",
    "car2.value=10000\n",
    "\n",
    "# test code\n",
    "print(car1.description())\n",
    "print(car2.description())"
   ]
  },
  {
   "cell_type": "code",
   "execution_count": 197,
   "metadata": {},
   "outputs": [
    {
     "name": "stdout",
     "output_type": "stream",
     "text": [
      "{'John': 938477566, 'Jack': 938377264, 'Jill': 947662781}\n"
     ]
    }
   ],
   "source": [
    "phonebook = {}\n",
    "phonebook[\"John\"] = 938477566\n",
    "phonebook[\"Jack\"] = 938377264\n",
    "phonebook[\"Jill\"] = 947662781\n",
    "print(phonebook)"
   ]
  },
  {
   "cell_type": "code",
   "execution_count": 198,
   "metadata": {},
   "outputs": [
    {
     "name": "stdout",
     "output_type": "stream",
     "text": [
      "Phone number of John is 938477566\n",
      "Phone number of Jack is 938377264\n",
      "Phone number of Jill is 947662781\n"
     ]
    }
   ],
   "source": [
    "phonebook = {\"John\" : 938477566,\"Jack\" : 938377264,\"Jill\" : 947662781}\n",
    "for name, number in phonebook.items():\n",
    "    print(\"Phone number of %s is %d\" % (name, number))"
   ]
  },
  {
   "cell_type": "code",
   "execution_count": 199,
   "metadata": {},
   "outputs": [
    {
     "name": "stdout",
     "output_type": "stream",
     "text": [
      "{'Jack': 938377264, 'Jill': 947662781}\n"
     ]
    }
   ],
   "source": [
    "phonebook = {\n",
    "   \"John\" : 938477566,\n",
    "   \"Jack\" : 938377264,\n",
    "   \"Jill\" : 947662781\n",
    "}\n",
    "del phonebook[\"John\"]\n",
    "print(phonebook)"
   ]
  },
  {
   "cell_type": "code",
   "execution_count": 200,
   "metadata": {},
   "outputs": [
    {
     "name": "stdout",
     "output_type": "stream",
     "text": [
      "{'Jack': 938377264, 'Jill': 947662781}\n"
     ]
    }
   ],
   "source": [
    "phonebook = {\n",
    "   \"John\" : 938477566,\n",
    "   \"Jack\" : 938377264,\n",
    "   \"Jill\" : 947662781\n",
    "}\n",
    "phonebook.pop(\"John\")\n",
    "print(phonebook)"
   ]
  },
  {
   "cell_type": "code",
   "execution_count": 201,
   "metadata": {},
   "outputs": [
    {
     "name": "stdout",
     "output_type": "stream",
     "text": [
      "Jake is listed in the phonebook.\n",
      "Jill is not listed in the phonebook.\n"
     ]
    }
   ],
   "source": [
    "phonebook = {\n",
    "    \"John\" : 938477566,\n",
    "    \"Jack\" : 938377264,\n",
    "    \"Jill\" : 947662781\n",
    "}\n",
    "\n",
    "# write your code here\n",
    "phonebook[\"Jake\"]=938273443\n",
    "del phonebook[\"Jill\"]\n",
    "\n",
    "# testing code\n",
    "if \"Jake\" in phonebook:\n",
    "    print(\"Jake is listed in the phonebook.\")\n",
    "if \"Jill\" not in phonebook:\n",
    "    print(\"Jill is not listed in the phonebook.\")"
   ]
  },
  {
   "cell_type": "code",
   "execution_count": 205,
   "metadata": {},
   "outputs": [
    {
     "data": {
      "text/plain": [
       "['__builtins__',\n",
       " '__cached__',\n",
       " '__doc__',\n",
       " '__file__',\n",
       " '__loader__',\n",
       " '__name__',\n",
       " '__package__',\n",
       " '__path__',\n",
       " '__spec__',\n",
       " 'parse']"
      ]
     },
     "execution_count": 205,
     "metadata": {},
     "output_type": "execute_result"
    }
   ],
   "source": [
    "import urllib\n",
    "dir(urllib)\n"
   ]
  },
  {
   "cell_type": "code",
   "execution_count": 209,
   "metadata": {},
   "outputs": [
    {
     "name": "stdout",
     "output_type": "stream",
     "text": [
      "Help on module urllib.parse in urllib:\n",
      "\n",
      "NAME\n",
      "    urllib.parse - Parse (absolute and relative) URLs.\n",
      "\n",
      "DESCRIPTION\n",
      "    urlparse module is based upon the following RFC specifications.\n",
      "    \n",
      "    RFC 3986 (STD66): \"Uniform Resource Identifiers\" by T. Berners-Lee, R. Fielding\n",
      "    and L.  Masinter, January 2005.\n",
      "    \n",
      "    RFC 2732 : \"Format for Literal IPv6 Addresses in URL's by R.Hinden, B.Carpenter\n",
      "    and L.Masinter, December 1999.\n",
      "    \n",
      "    RFC 2396:  \"Uniform Resource Identifiers (URI)\": Generic Syntax by T.\n",
      "    Berners-Lee, R. Fielding, and L. Masinter, August 1998.\n",
      "    \n",
      "    RFC 2368: \"The mailto URL scheme\", by P.Hoffman , L Masinter, J. Zawinski, July 1998.\n",
      "    \n",
      "    RFC 1808: \"Relative Uniform Resource Locators\", by R. Fielding, UC Irvine, June\n",
      "    1995.\n",
      "    \n",
      "    RFC 1738: \"Uniform Resource Locators (URL)\" by T. Berners-Lee, L. Masinter, M.\n",
      "    McCahill, December 1994\n",
      "    \n",
      "    RFC 3986 is considered the current standard and any future changes to\n",
      "    urlparse module should conform with it.  The urlparse module is\n",
      "    currently not entirely compliant with this RFC due to defacto\n",
      "    scenarios for parsing, and for backward compatibility purposes, some\n",
      "    parsing quirks from older RFCs are retained. The testcases in\n",
      "    test_urlparse.py provides a good indicator of parsing behavior.\n",
      "\n",
      "CLASSES\n",
      "    DefragResult(builtins.tuple)\n",
      "        DefragResult(DefragResult, _ResultMixinStr)\n",
      "        DefragResultBytes(DefragResult, _ResultMixinBytes)\n",
      "    ParseResult(builtins.tuple)\n",
      "        ParseResult(ParseResult, _NetlocResultMixinStr)\n",
      "        ParseResultBytes(ParseResult, _NetlocResultMixinBytes)\n",
      "    SplitResult(builtins.tuple)\n",
      "        SplitResult(SplitResult, _NetlocResultMixinStr)\n",
      "        SplitResultBytes(SplitResult, _NetlocResultMixinBytes)\n",
      "    _NetlocResultMixinBytes(_NetlocResultMixinBase, _ResultMixinBytes)\n",
      "        ParseResultBytes(ParseResult, _NetlocResultMixinBytes)\n",
      "        SplitResultBytes(SplitResult, _NetlocResultMixinBytes)\n",
      "    _NetlocResultMixinStr(_NetlocResultMixinBase, _ResultMixinStr)\n",
      "        ParseResult(ParseResult, _NetlocResultMixinStr)\n",
      "        SplitResult(SplitResult, _NetlocResultMixinStr)\n",
      "    _ResultMixinBytes(builtins.object)\n",
      "        DefragResultBytes(DefragResult, _ResultMixinBytes)\n",
      "    _ResultMixinStr(builtins.object)\n",
      "        DefragResult(DefragResult, _ResultMixinStr)\n",
      "    \n",
      "    class DefragResult(DefragResult, _ResultMixinStr)\n",
      "     |  DefragResult(url, fragment)\n",
      "     |  \n",
      "     |  A 2-tuple that contains the url without fragment identifier and the fragment\n",
      "     |  identifier as a separate argument.\n",
      "     |  \n",
      "     |  Method resolution order:\n",
      "     |      DefragResult\n",
      "     |      DefragResult\n",
      "     |      builtins.tuple\n",
      "     |      _ResultMixinStr\n",
      "     |      builtins.object\n",
      "     |  \n",
      "     |  Methods defined here:\n",
      "     |  \n",
      "     |  geturl(self)\n",
      "     |  \n",
      "     |  ----------------------------------------------------------------------\n",
      "     |  Data and other attributes defined here:\n",
      "     |  \n",
      "     |  _encoded_counterpart = <class 'urllib.parse.DefragResultBytes'>\n",
      "     |      DefragResult(url, fragment)\n",
      "     |      \n",
      "     |      A 2-tuple that contains the url without fragment identifier and the fragment\n",
      "     |      identifier as a separate argument.\n",
      "     |  \n",
      "     |  ----------------------------------------------------------------------\n",
      "     |  Methods inherited from DefragResult:\n",
      "     |  \n",
      "     |  __getnewargs__(self)\n",
      "     |      Return self as a plain tuple.  Used by copy and pickle.\n",
      "     |  \n",
      "     |  __repr__(self)\n",
      "     |      Return a nicely formatted representation string\n",
      "     |  \n",
      "     |  _asdict(self)\n",
      "     |      Return a new OrderedDict which maps field names to their values.\n",
      "     |  \n",
      "     |  _replace(_self, **kwds)\n",
      "     |      Return a new DefragResult object replacing specified fields with new values\n",
      "     |  \n",
      "     |  ----------------------------------------------------------------------\n",
      "     |  Class methods inherited from DefragResult:\n",
      "     |  \n",
      "     |  _make(iterable, new=<built-in method __new__ of type object at 0x000000006B0FAFA0>, len=<built-in function len>) from builtins.type\n",
      "     |      Make a new DefragResult object from a sequence or iterable\n",
      "     |  \n",
      "     |  ----------------------------------------------------------------------\n",
      "     |  Static methods inherited from DefragResult:\n",
      "     |  \n",
      "     |  __new__(_cls, url, fragment)\n",
      "     |      Create new instance of DefragResult(url, fragment)\n",
      "     |  \n",
      "     |  ----------------------------------------------------------------------\n",
      "     |  Data descriptors inherited from DefragResult:\n",
      "     |  \n",
      "     |  url\n",
      "     |      The URL with no fragment identifier.\n",
      "     |  \n",
      "     |  fragment\n",
      "     |      Fragment identifier separated from URL, that allows indirect identification of a\n",
      "     |      secondary resource by reference to a primary resource and additional identifying\n",
      "     |      information.\n",
      "     |  \n",
      "     |  ----------------------------------------------------------------------\n",
      "     |  Data and other attributes inherited from DefragResult:\n",
      "     |  \n",
      "     |  _fields = ('url', 'fragment')\n",
      "     |  \n",
      "     |  _source = \"from builtins import property as _property, tupl..._itemget...\n",
      "     |  \n",
      "     |  ----------------------------------------------------------------------\n",
      "     |  Methods inherited from builtins.tuple:\n",
      "     |  \n",
      "     |  __add__(self, value, /)\n",
      "     |      Return self+value.\n",
      "     |  \n",
      "     |  __contains__(self, key, /)\n",
      "     |      Return key in self.\n",
      "     |  \n",
      "     |  __eq__(self, value, /)\n",
      "     |      Return self==value.\n",
      "     |  \n",
      "     |  __ge__(self, value, /)\n",
      "     |      Return self>=value.\n",
      "     |  \n",
      "     |  __getattribute__(self, name, /)\n",
      "     |      Return getattr(self, name).\n",
      "     |  \n",
      "     |  __getitem__(self, key, /)\n",
      "     |      Return self[key].\n",
      "     |  \n",
      "     |  __gt__(self, value, /)\n",
      "     |      Return self>value.\n",
      "     |  \n",
      "     |  __hash__(self, /)\n",
      "     |      Return hash(self).\n",
      "     |  \n",
      "     |  __iter__(self, /)\n",
      "     |      Implement iter(self).\n",
      "     |  \n",
      "     |  __le__(self, value, /)\n",
      "     |      Return self<=value.\n",
      "     |  \n",
      "     |  __len__(self, /)\n",
      "     |      Return len(self).\n",
      "     |  \n",
      "     |  __lt__(self, value, /)\n",
      "     |      Return self<value.\n",
      "     |  \n",
      "     |  __mul__(self, value, /)\n",
      "     |      Return self*value.n\n",
      "     |  \n",
      "     |  __ne__(self, value, /)\n",
      "     |      Return self!=value.\n",
      "     |  \n",
      "     |  __rmul__(self, value, /)\n",
      "     |      Return self*value.\n",
      "     |  \n",
      "     |  count(...)\n",
      "     |      T.count(value) -> integer -- return number of occurrences of value\n",
      "     |  \n",
      "     |  index(...)\n",
      "     |      T.index(value, [start, [stop]]) -> integer -- return first index of value.\n",
      "     |      Raises ValueError if the value is not present.\n",
      "     |  \n",
      "     |  ----------------------------------------------------------------------\n",
      "     |  Methods inherited from _ResultMixinStr:\n",
      "     |  \n",
      "     |  encode(self, encoding='ascii', errors='strict')\n",
      "    \n",
      "    class DefragResultBytes(DefragResult, _ResultMixinBytes)\n",
      "     |  DefragResult(url, fragment)\n",
      "     |  \n",
      "     |  A 2-tuple that contains the url without fragment identifier and the fragment\n",
      "     |  identifier as a separate argument.\n",
      "     |  \n",
      "     |  Method resolution order:\n",
      "     |      DefragResultBytes\n",
      "     |      DefragResult\n",
      "     |      builtins.tuple\n",
      "     |      _ResultMixinBytes\n",
      "     |      builtins.object\n",
      "     |  \n",
      "     |  Methods defined here:\n",
      "     |  \n",
      "     |  geturl(self)\n",
      "     |  \n",
      "     |  ----------------------------------------------------------------------\n",
      "     |  Data and other attributes defined here:\n",
      "     |  \n",
      "     |  _decoded_counterpart = <class 'urllib.parse.DefragResult'>\n",
      "     |      DefragResult(url, fragment)\n",
      "     |      \n",
      "     |      A 2-tuple that contains the url without fragment identifier and the fragment\n",
      "     |      identifier as a separate argument.\n",
      "     |  \n",
      "     |  ----------------------------------------------------------------------\n",
      "     |  Methods inherited from DefragResult:\n",
      "     |  \n",
      "     |  __getnewargs__(self)\n",
      "     |      Return self as a plain tuple.  Used by copy and pickle.\n",
      "     |  \n",
      "     |  __repr__(self)\n",
      "     |      Return a nicely formatted representation string\n",
      "     |  \n",
      "     |  _asdict(self)\n",
      "     |      Return a new OrderedDict which maps field names to their values.\n",
      "     |  \n",
      "     |  _replace(_self, **kwds)\n",
      "     |      Return a new DefragResult object replacing specified fields with new values\n",
      "     |  \n",
      "     |  ----------------------------------------------------------------------\n",
      "     |  Class methods inherited from DefragResult:\n",
      "     |  \n",
      "     |  _make(iterable, new=<built-in method __new__ of type object at 0x000000006B0FAFA0>, len=<built-in function len>) from builtins.type\n",
      "     |      Make a new DefragResult object from a sequence or iterable\n",
      "     |  \n",
      "     |  ----------------------------------------------------------------------\n",
      "     |  Static methods inherited from DefragResult:\n",
      "     |  \n",
      "     |  __new__(_cls, url, fragment)\n",
      "     |      Create new instance of DefragResult(url, fragment)\n",
      "     |  \n",
      "     |  ----------------------------------------------------------------------\n",
      "     |  Data descriptors inherited from DefragResult:\n",
      "     |  \n",
      "     |  url\n",
      "     |      The URL with no fragment identifier.\n",
      "     |  \n",
      "     |  fragment\n",
      "     |      Fragment identifier separated from URL, that allows indirect identification of a\n",
      "     |      secondary resource by reference to a primary resource and additional identifying\n",
      "     |      information.\n",
      "     |  \n",
      "     |  ----------------------------------------------------------------------\n",
      "     |  Data and other attributes inherited from DefragResult:\n",
      "     |  \n",
      "     |  _fields = ('url', 'fragment')\n",
      "     |  \n",
      "     |  _source = \"from builtins import property as _property, tupl..._itemget...\n",
      "     |  \n",
      "     |  ----------------------------------------------------------------------\n",
      "     |  Methods inherited from builtins.tuple:\n",
      "     |  \n",
      "     |  __add__(self, value, /)\n",
      "     |      Return self+value.\n",
      "     |  \n",
      "     |  __contains__(self, key, /)\n",
      "     |      Return key in self.\n",
      "     |  \n",
      "     |  __eq__(self, value, /)\n",
      "     |      Return self==value.\n",
      "     |  \n",
      "     |  __ge__(self, value, /)\n",
      "     |      Return self>=value.\n",
      "     |  \n",
      "     |  __getattribute__(self, name, /)\n",
      "     |      Return getattr(self, name).\n",
      "     |  \n",
      "     |  __getitem__(self, key, /)\n",
      "     |      Return self[key].\n",
      "     |  \n",
      "     |  __gt__(self, value, /)\n",
      "     |      Return self>value.\n",
      "     |  \n",
      "     |  __hash__(self, /)\n",
      "     |      Return hash(self).\n",
      "     |  \n",
      "     |  __iter__(self, /)\n",
      "     |      Implement iter(self).\n",
      "     |  \n",
      "     |  __le__(self, value, /)\n",
      "     |      Return self<=value.\n",
      "     |  \n",
      "     |  __len__(self, /)\n",
      "     |      Return len(self).\n",
      "     |  \n",
      "     |  __lt__(self, value, /)\n",
      "     |      Return self<value.\n",
      "     |  \n",
      "     |  __mul__(self, value, /)\n",
      "     |      Return self*value.n\n",
      "     |  \n",
      "     |  __ne__(self, value, /)\n",
      "     |      Return self!=value.\n",
      "     |  \n",
      "     |  __rmul__(self, value, /)\n",
      "     |      Return self*value.\n",
      "     |  \n",
      "     |  count(...)\n",
      "     |      T.count(value) -> integer -- return number of occurrences of value\n",
      "     |  \n",
      "     |  index(...)\n",
      "     |      T.index(value, [start, [stop]]) -> integer -- return first index of value.\n",
      "     |      Raises ValueError if the value is not present.\n",
      "     |  \n",
      "     |  ----------------------------------------------------------------------\n",
      "     |  Methods inherited from _ResultMixinBytes:\n",
      "     |  \n",
      "     |  decode(self, encoding='ascii', errors='strict')\n",
      "    \n",
      "    class ParseResult(ParseResult, _NetlocResultMixinStr)\n",
      "     |  ParseResult(scheme, netloc, path, params,  query, fragment)\n",
      "     |  \n",
      "     |  A 6-tuple that contains components of a parsed URL.\n",
      "     |  \n",
      "     |  Method resolution order:\n",
      "     |      ParseResult\n",
      "     |      ParseResult\n",
      "     |      builtins.tuple\n",
      "     |      _NetlocResultMixinStr\n",
      "     |      _NetlocResultMixinBase\n",
      "     |      _ResultMixinStr\n",
      "     |      builtins.object\n",
      "     |  \n",
      "     |  Methods defined here:\n",
      "     |  \n",
      "     |  geturl(self)\n",
      "     |  \n",
      "     |  ----------------------------------------------------------------------\n",
      "     |  Data and other attributes defined here:\n",
      "     |  \n",
      "     |  _encoded_counterpart = <class 'urllib.parse.ParseResultBytes'>\n",
      "     |      ParseResult(scheme, netloc, path, params,  query, fragment)\n",
      "     |      \n",
      "     |      A 6-tuple that contains components of a parsed URL.\n",
      "     |  \n",
      "     |  ----------------------------------------------------------------------\n",
      "     |  Methods inherited from ParseResult:\n",
      "     |  \n",
      "     |  __getnewargs__(self)\n",
      "     |      Return self as a plain tuple.  Used by copy and pickle.\n",
      "     |  \n",
      "     |  __repr__(self)\n",
      "     |      Return a nicely formatted representation string\n",
      "     |  \n",
      "     |  _asdict(self)\n",
      "     |      Return a new OrderedDict which maps field names to their values.\n",
      "     |  \n",
      "     |  _replace(_self, **kwds)\n",
      "     |      Return a new ParseResult object replacing specified fields with new values\n",
      "     |  \n",
      "     |  ----------------------------------------------------------------------\n",
      "     |  Class methods inherited from ParseResult:\n",
      "     |  \n",
      "     |  _make(iterable, new=<built-in method __new__ of type object at 0x000000006B0FAFA0>, len=<built-in function len>) from builtins.type\n",
      "     |      Make a new ParseResult object from a sequence or iterable\n",
      "     |  \n",
      "     |  ----------------------------------------------------------------------\n",
      "     |  Static methods inherited from ParseResult:\n",
      "     |  \n",
      "     |  __new__(_cls, scheme, netloc, path, params, query, fragment)\n",
      "     |      Create new instance of ParseResult(scheme, netloc, path, params, query, fragment)\n",
      "     |  \n",
      "     |  ----------------------------------------------------------------------\n",
      "     |  Data descriptors inherited from ParseResult:\n",
      "     |  \n",
      "     |  scheme\n",
      "     |      Specifies URL scheme for the request.\n",
      "     |  \n",
      "     |  netloc\n",
      "     |      Network location where the request is made to.\n",
      "     |  \n",
      "     |  path\n",
      "     |      The hierarchical path, such as the path to a file to download.\n",
      "     |  \n",
      "     |  params\n",
      "     |      Parameters for last path element used to dereference the URI in order to provide\n",
      "     |      access to perform some operation on the resource.\n",
      "     |  \n",
      "     |  query\n",
      "     |      The query component, that contains non-hierarchical data, that along with data\n",
      "     |      in path component, identifies a resource in the scope of URI's scheme and\n",
      "     |      network location.\n",
      "     |  \n",
      "     |  fragment\n",
      "     |      Fragment identifier, that allows indirect identification of a secondary resource\n",
      "     |      by reference to a primary resource and additional identifying information.\n",
      "     |  \n",
      "     |  ----------------------------------------------------------------------\n",
      "     |  Data and other attributes inherited from ParseResult:\n",
      "     |  \n",
      "     |  _fields = ('scheme', 'netloc', 'path', 'params', 'query', 'fragment')\n",
      "     |  \n",
      "     |  _source = \"from builtins import property as _property, tupl..._itemget...\n",
      "     |  \n",
      "     |  ----------------------------------------------------------------------\n",
      "     |  Methods inherited from builtins.tuple:\n",
      "     |  \n",
      "     |  __add__(self, value, /)\n",
      "     |      Return self+value.\n",
      "     |  \n",
      "     |  __contains__(self, key, /)\n",
      "     |      Return key in self.\n",
      "     |  \n",
      "     |  __eq__(self, value, /)\n",
      "     |      Return self==value.\n",
      "     |  \n",
      "     |  __ge__(self, value, /)\n",
      "     |      Return self>=value.\n",
      "     |  \n",
      "     |  __getattribute__(self, name, /)\n",
      "     |      Return getattr(self, name).\n",
      "     |  \n",
      "     |  __getitem__(self, key, /)\n",
      "     |      Return self[key].\n",
      "     |  \n",
      "     |  __gt__(self, value, /)\n",
      "     |      Return self>value.\n",
      "     |  \n",
      "     |  __hash__(self, /)\n",
      "     |      Return hash(self).\n",
      "     |  \n",
      "     |  __iter__(self, /)\n",
      "     |      Implement iter(self).\n",
      "     |  \n",
      "     |  __le__(self, value, /)\n",
      "     |      Return self<=value.\n",
      "     |  \n",
      "     |  __len__(self, /)\n",
      "     |      Return len(self).\n",
      "     |  \n",
      "     |  __lt__(self, value, /)\n",
      "     |      Return self<value.\n",
      "     |  \n",
      "     |  __mul__(self, value, /)\n",
      "     |      Return self*value.n\n",
      "     |  \n",
      "     |  __ne__(self, value, /)\n",
      "     |      Return self!=value.\n",
      "     |  \n",
      "     |  __rmul__(self, value, /)\n",
      "     |      Return self*value.\n",
      "     |  \n",
      "     |  count(...)\n",
      "     |      T.count(value) -> integer -- return number of occurrences of value\n",
      "     |  \n",
      "     |  index(...)\n",
      "     |      T.index(value, [start, [stop]]) -> integer -- return first index of value.\n",
      "     |      Raises ValueError if the value is not present.\n",
      "     |  \n",
      "     |  ----------------------------------------------------------------------\n",
      "     |  Data descriptors inherited from _NetlocResultMixinStr:\n",
      "     |  \n",
      "     |  _hostinfo\n",
      "     |  \n",
      "     |  _userinfo\n",
      "     |  \n",
      "     |  ----------------------------------------------------------------------\n",
      "     |  Data descriptors inherited from _NetlocResultMixinBase:\n",
      "     |  \n",
      "     |  hostname\n",
      "     |  \n",
      "     |  password\n",
      "     |  \n",
      "     |  port\n",
      "     |  \n",
      "     |  username\n",
      "     |  \n",
      "     |  ----------------------------------------------------------------------\n",
      "     |  Methods inherited from _ResultMixinStr:\n",
      "     |  \n",
      "     |  encode(self, encoding='ascii', errors='strict')\n",
      "    \n",
      "    class ParseResultBytes(ParseResult, _NetlocResultMixinBytes)\n",
      "     |  ParseResult(scheme, netloc, path, params,  query, fragment)\n",
      "     |  \n",
      "     |  A 6-tuple that contains components of a parsed URL.\n",
      "     |  \n",
      "     |  Method resolution order:\n",
      "     |      ParseResultBytes\n",
      "     |      ParseResult\n",
      "     |      builtins.tuple\n",
      "     |      _NetlocResultMixinBytes\n",
      "     |      _NetlocResultMixinBase\n",
      "     |      _ResultMixinBytes\n",
      "     |      builtins.object\n",
      "     |  \n",
      "     |  Methods defined here:\n",
      "     |  \n",
      "     |  geturl(self)\n",
      "     |  \n",
      "     |  ----------------------------------------------------------------------\n",
      "     |  Data and other attributes defined here:\n",
      "     |  \n",
      "     |  _decoded_counterpart = <class 'urllib.parse.ParseResult'>\n",
      "     |      ParseResult(scheme, netloc, path, params,  query, fragment)\n",
      "     |      \n",
      "     |      A 6-tuple that contains components of a parsed URL.\n",
      "     |  \n",
      "     |  ----------------------------------------------------------------------\n",
      "     |  Methods inherited from ParseResult:\n",
      "     |  \n",
      "     |  __getnewargs__(self)\n",
      "     |      Return self as a plain tuple.  Used by copy and pickle.\n",
      "     |  \n",
      "     |  __repr__(self)\n",
      "     |      Return a nicely formatted representation string\n",
      "     |  \n",
      "     |  _asdict(self)\n",
      "     |      Return a new OrderedDict which maps field names to their values.\n",
      "     |  \n",
      "     |  _replace(_self, **kwds)\n",
      "     |      Return a new ParseResult object replacing specified fields with new values\n",
      "     |  \n",
      "     |  ----------------------------------------------------------------------\n",
      "     |  Class methods inherited from ParseResult:\n",
      "     |  \n",
      "     |  _make(iterable, new=<built-in method __new__ of type object at 0x000000006B0FAFA0>, len=<built-in function len>) from builtins.type\n",
      "     |      Make a new ParseResult object from a sequence or iterable\n",
      "     |  \n",
      "     |  ----------------------------------------------------------------------\n",
      "     |  Static methods inherited from ParseResult:\n",
      "     |  \n",
      "     |  __new__(_cls, scheme, netloc, path, params, query, fragment)\n",
      "     |      Create new instance of ParseResult(scheme, netloc, path, params, query, fragment)\n",
      "     |  \n",
      "     |  ----------------------------------------------------------------------\n",
      "     |  Data descriptors inherited from ParseResult:\n",
      "     |  \n",
      "     |  scheme\n",
      "     |      Specifies URL scheme for the request.\n",
      "     |  \n",
      "     |  netloc\n",
      "     |      Network location where the request is made to.\n",
      "     |  \n",
      "     |  path\n",
      "     |      The hierarchical path, such as the path to a file to download.\n",
      "     |  \n",
      "     |  params\n",
      "     |      Parameters for last path element used to dereference the URI in order to provide\n",
      "     |      access to perform some operation on the resource.\n",
      "     |  \n",
      "     |  query\n",
      "     |      The query component, that contains non-hierarchical data, that along with data\n",
      "     |      in path component, identifies a resource in the scope of URI's scheme and\n",
      "     |      network location.\n",
      "     |  \n",
      "     |  fragment\n",
      "     |      Fragment identifier, that allows indirect identification of a secondary resource\n",
      "     |      by reference to a primary resource and additional identifying information.\n",
      "     |  \n",
      "     |  ----------------------------------------------------------------------\n",
      "     |  Data and other attributes inherited from ParseResult:\n",
      "     |  \n",
      "     |  _fields = ('scheme', 'netloc', 'path', 'params', 'query', 'fragment')\n",
      "     |  \n",
      "     |  _source = \"from builtins import property as _property, tupl..._itemget...\n",
      "     |  \n",
      "     |  ----------------------------------------------------------------------\n",
      "     |  Methods inherited from builtins.tuple:\n",
      "     |  \n",
      "     |  __add__(self, value, /)\n",
      "     |      Return self+value.\n",
      "     |  \n",
      "     |  __contains__(self, key, /)\n",
      "     |      Return key in self.\n",
      "     |  \n",
      "     |  __eq__(self, value, /)\n",
      "     |      Return self==value.\n",
      "     |  \n",
      "     |  __ge__(self, value, /)\n",
      "     |      Return self>=value.\n",
      "     |  \n",
      "     |  __getattribute__(self, name, /)\n",
      "     |      Return getattr(self, name).\n",
      "     |  \n",
      "     |  __getitem__(self, key, /)\n",
      "     |      Return self[key].\n",
      "     |  \n",
      "     |  __gt__(self, value, /)\n",
      "     |      Return self>value.\n",
      "     |  \n",
      "     |  __hash__(self, /)\n",
      "     |      Return hash(self).\n",
      "     |  \n",
      "     |  __iter__(self, /)\n",
      "     |      Implement iter(self).\n",
      "     |  \n",
      "     |  __le__(self, value, /)\n",
      "     |      Return self<=value.\n",
      "     |  \n",
      "     |  __len__(self, /)\n",
      "     |      Return len(self).\n",
      "     |  \n",
      "     |  __lt__(self, value, /)\n",
      "     |      Return self<value.\n",
      "     |  \n",
      "     |  __mul__(self, value, /)\n",
      "     |      Return self*value.n\n",
      "     |  \n",
      "     |  __ne__(self, value, /)\n",
      "     |      Return self!=value.\n",
      "     |  \n",
      "     |  __rmul__(self, value, /)\n",
      "     |      Return self*value.\n",
      "     |  \n",
      "     |  count(...)\n",
      "     |      T.count(value) -> integer -- return number of occurrences of value\n",
      "     |  \n",
      "     |  index(...)\n",
      "     |      T.index(value, [start, [stop]]) -> integer -- return first index of value.\n",
      "     |      Raises ValueError if the value is not present.\n",
      "     |  \n",
      "     |  ----------------------------------------------------------------------\n",
      "     |  Data descriptors inherited from _NetlocResultMixinBytes:\n",
      "     |  \n",
      "     |  _hostinfo\n",
      "     |  \n",
      "     |  _userinfo\n",
      "     |  \n",
      "     |  ----------------------------------------------------------------------\n",
      "     |  Data descriptors inherited from _NetlocResultMixinBase:\n",
      "     |  \n",
      "     |  hostname\n",
      "     |  \n",
      "     |  password\n",
      "     |  \n",
      "     |  port\n",
      "     |  \n",
      "     |  username\n",
      "     |  \n",
      "     |  ----------------------------------------------------------------------\n",
      "     |  Methods inherited from _ResultMixinBytes:\n",
      "     |  \n",
      "     |  decode(self, encoding='ascii', errors='strict')\n",
      "    \n",
      "    class SplitResult(SplitResult, _NetlocResultMixinStr)\n",
      "     |  SplitResult(scheme, netloc, path, query, fragment)\n",
      "     |  \n",
      "     |  A 5-tuple that contains the different components of a URL. Similar to\n",
      "     |  ParseResult, but does not split params.\n",
      "     |  \n",
      "     |  Method resolution order:\n",
      "     |      SplitResult\n",
      "     |      SplitResult\n",
      "     |      builtins.tuple\n",
      "     |      _NetlocResultMixinStr\n",
      "     |      _NetlocResultMixinBase\n",
      "     |      _ResultMixinStr\n",
      "     |      builtins.object\n",
      "     |  \n",
      "     |  Methods defined here:\n",
      "     |  \n",
      "     |  geturl(self)\n",
      "     |  \n",
      "     |  ----------------------------------------------------------------------\n",
      "     |  Data and other attributes defined here:\n",
      "     |  \n",
      "     |  _encoded_counterpart = <class 'urllib.parse.SplitResultBytes'>\n",
      "     |      SplitResult(scheme, netloc, path, query, fragment)\n",
      "     |      \n",
      "     |      A 5-tuple that contains the different components of a URL. Similar to\n",
      "     |      ParseResult, but does not split params.\n",
      "     |  \n",
      "     |  ----------------------------------------------------------------------\n",
      "     |  Methods inherited from SplitResult:\n",
      "     |  \n",
      "     |  __getnewargs__(self)\n",
      "     |      Return self as a plain tuple.  Used by copy and pickle.\n",
      "     |  \n",
      "     |  __repr__(self)\n",
      "     |      Return a nicely formatted representation string\n",
      "     |  \n",
      "     |  _asdict(self)\n",
      "     |      Return a new OrderedDict which maps field names to their values.\n",
      "     |  \n",
      "     |  _replace(_self, **kwds)\n",
      "     |      Return a new SplitResult object replacing specified fields with new values\n",
      "     |  \n",
      "     |  ----------------------------------------------------------------------\n",
      "     |  Class methods inherited from SplitResult:\n",
      "     |  \n",
      "     |  _make(iterable, new=<built-in method __new__ of type object at 0x000000006B0FAFA0>, len=<built-in function len>) from builtins.type\n",
      "     |      Make a new SplitResult object from a sequence or iterable\n",
      "     |  \n",
      "     |  ----------------------------------------------------------------------\n",
      "     |  Static methods inherited from SplitResult:\n",
      "     |  \n",
      "     |  __new__(_cls, scheme, netloc, path, query, fragment)\n",
      "     |      Create new instance of SplitResult(scheme, netloc, path, query, fragment)\n",
      "     |  \n",
      "     |  ----------------------------------------------------------------------\n",
      "     |  Data descriptors inherited from SplitResult:\n",
      "     |  \n",
      "     |  scheme\n",
      "     |      Specifies URL scheme for the request.\n",
      "     |  \n",
      "     |  netloc\n",
      "     |      Network location where the request is made to.\n",
      "     |  \n",
      "     |  path\n",
      "     |      The hierarchical path, such as the path to a file to download.\n",
      "     |  \n",
      "     |  query\n",
      "     |      The query component, that contains non-hierarchical data, that along with data\n",
      "     |      in path component, identifies a resource in the scope of URI's scheme and\n",
      "     |      network location.\n",
      "     |  \n",
      "     |  fragment\n",
      "     |      Fragment identifier, that allows indirect identification of a secondary resource\n",
      "     |      by reference to a primary resource and additional identifying information.\n",
      "     |  \n",
      "     |  ----------------------------------------------------------------------\n",
      "     |  Data and other attributes inherited from SplitResult:\n",
      "     |  \n",
      "     |  _fields = ('scheme', 'netloc', 'path', 'query', 'fragment')\n",
      "     |  \n",
      "     |  _source = \"from builtins import property as _property, tupl..._itemget...\n",
      "     |  \n",
      "     |  ----------------------------------------------------------------------\n",
      "     |  Methods inherited from builtins.tuple:\n",
      "     |  \n",
      "     |  __add__(self, value, /)\n",
      "     |      Return self+value.\n",
      "     |  \n",
      "     |  __contains__(self, key, /)\n",
      "     |      Return key in self.\n",
      "     |  \n",
      "     |  __eq__(self, value, /)\n",
      "     |      Return self==value.\n",
      "     |  \n",
      "     |  __ge__(self, value, /)\n",
      "     |      Return self>=value.\n",
      "     |  \n",
      "     |  __getattribute__(self, name, /)\n",
      "     |      Return getattr(self, name).\n",
      "     |  \n",
      "     |  __getitem__(self, key, /)\n",
      "     |      Return self[key].\n",
      "     |  \n",
      "     |  __gt__(self, value, /)\n",
      "     |      Return self>value.\n",
      "     |  \n",
      "     |  __hash__(self, /)\n",
      "     |      Return hash(self).\n",
      "     |  \n",
      "     |  __iter__(self, /)\n",
      "     |      Implement iter(self).\n",
      "     |  \n",
      "     |  __le__(self, value, /)\n",
      "     |      Return self<=value.\n",
      "     |  \n",
      "     |  __len__(self, /)\n",
      "     |      Return len(self).\n",
      "     |  \n",
      "     |  __lt__(self, value, /)\n",
      "     |      Return self<value.\n",
      "     |  \n",
      "     |  __mul__(self, value, /)\n",
      "     |      Return self*value.n\n",
      "     |  \n",
      "     |  __ne__(self, value, /)\n",
      "     |      Return self!=value.\n",
      "     |  \n",
      "     |  __rmul__(self, value, /)\n",
      "     |      Return self*value.\n",
      "     |  \n",
      "     |  count(...)\n",
      "     |      T.count(value) -> integer -- return number of occurrences of value\n",
      "     |  \n",
      "     |  index(...)\n",
      "     |      T.index(value, [start, [stop]]) -> integer -- return first index of value.\n",
      "     |      Raises ValueError if the value is not present.\n",
      "     |  \n",
      "     |  ----------------------------------------------------------------------\n",
      "     |  Data descriptors inherited from _NetlocResultMixinStr:\n",
      "     |  \n",
      "     |  _hostinfo\n",
      "     |  \n",
      "     |  _userinfo\n",
      "     |  \n",
      "     |  ----------------------------------------------------------------------\n",
      "     |  Data descriptors inherited from _NetlocResultMixinBase:\n",
      "     |  \n",
      "     |  hostname\n",
      "     |  \n",
      "     |  password\n",
      "     |  \n",
      "     |  port\n",
      "     |  \n",
      "     |  username\n",
      "     |  \n",
      "     |  ----------------------------------------------------------------------\n",
      "     |  Methods inherited from _ResultMixinStr:\n",
      "     |  \n",
      "     |  encode(self, encoding='ascii', errors='strict')\n",
      "    \n",
      "    class SplitResultBytes(SplitResult, _NetlocResultMixinBytes)\n",
      "     |  SplitResult(scheme, netloc, path, query, fragment)\n",
      "     |  \n",
      "     |  A 5-tuple that contains the different components of a URL. Similar to\n",
      "     |  ParseResult, but does not split params.\n",
      "     |  \n",
      "     |  Method resolution order:\n",
      "     |      SplitResultBytes\n",
      "     |      SplitResult\n",
      "     |      builtins.tuple\n",
      "     |      _NetlocResultMixinBytes\n",
      "     |      _NetlocResultMixinBase\n",
      "     |      _ResultMixinBytes\n",
      "     |      builtins.object\n",
      "     |  \n",
      "     |  Methods defined here:\n",
      "     |  \n",
      "     |  geturl(self)\n",
      "     |  \n",
      "     |  ----------------------------------------------------------------------\n",
      "     |  Data and other attributes defined here:\n",
      "     |  \n",
      "     |  _decoded_counterpart = <class 'urllib.parse.SplitResult'>\n",
      "     |      SplitResult(scheme, netloc, path, query, fragment)\n",
      "     |      \n",
      "     |      A 5-tuple that contains the different components of a URL. Similar to\n",
      "     |      ParseResult, but does not split params.\n",
      "     |  \n",
      "     |  ----------------------------------------------------------------------\n",
      "     |  Methods inherited from SplitResult:\n",
      "     |  \n",
      "     |  __getnewargs__(self)\n",
      "     |      Return self as a plain tuple.  Used by copy and pickle.\n",
      "     |  \n",
      "     |  __repr__(self)\n",
      "     |      Return a nicely formatted representation string\n",
      "     |  \n",
      "     |  _asdict(self)\n",
      "     |      Return a new OrderedDict which maps field names to their values.\n",
      "     |  \n",
      "     |  _replace(_self, **kwds)\n",
      "     |      Return a new SplitResult object replacing specified fields with new values\n",
      "     |  \n",
      "     |  ----------------------------------------------------------------------\n",
      "     |  Class methods inherited from SplitResult:\n",
      "     |  \n",
      "     |  _make(iterable, new=<built-in method __new__ of type object at 0x000000006B0FAFA0>, len=<built-in function len>) from builtins.type\n",
      "     |      Make a new SplitResult object from a sequence or iterable\n",
      "     |  \n",
      "     |  ----------------------------------------------------------------------\n",
      "     |  Static methods inherited from SplitResult:\n",
      "     |  \n",
      "     |  __new__(_cls, scheme, netloc, path, query, fragment)\n",
      "     |      Create new instance of SplitResult(scheme, netloc, path, query, fragment)\n",
      "     |  \n",
      "     |  ----------------------------------------------------------------------\n",
      "     |  Data descriptors inherited from SplitResult:\n",
      "     |  \n",
      "     |  scheme\n",
      "     |      Specifies URL scheme for the request.\n",
      "     |  \n",
      "     |  netloc\n",
      "     |      Network location where the request is made to.\n",
      "     |  \n",
      "     |  path\n",
      "     |      The hierarchical path, such as the path to a file to download.\n",
      "     |  \n",
      "     |  query\n",
      "     |      The query component, that contains non-hierarchical data, that along with data\n",
      "     |      in path component, identifies a resource in the scope of URI's scheme and\n",
      "     |      network location.\n",
      "     |  \n",
      "     |  fragment\n",
      "     |      Fragment identifier, that allows indirect identification of a secondary resource\n",
      "     |      by reference to a primary resource and additional identifying information.\n",
      "     |  \n",
      "     |  ----------------------------------------------------------------------\n",
      "     |  Data and other attributes inherited from SplitResult:\n",
      "     |  \n",
      "     |  _fields = ('scheme', 'netloc', 'path', 'query', 'fragment')\n",
      "     |  \n",
      "     |  _source = \"from builtins import property as _property, tupl..._itemget...\n",
      "     |  \n",
      "     |  ----------------------------------------------------------------------\n",
      "     |  Methods inherited from builtins.tuple:\n",
      "     |  \n",
      "     |  __add__(self, value, /)\n",
      "     |      Return self+value.\n",
      "     |  \n",
      "     |  __contains__(self, key, /)\n",
      "     |      Return key in self.\n",
      "     |  \n",
      "     |  __eq__(self, value, /)\n",
      "     |      Return self==value.\n",
      "     |  \n",
      "     |  __ge__(self, value, /)\n",
      "     |      Return self>=value.\n",
      "     |  \n",
      "     |  __getattribute__(self, name, /)\n",
      "     |      Return getattr(self, name).\n",
      "     |  \n",
      "     |  __getitem__(self, key, /)\n",
      "     |      Return self[key].\n",
      "     |  \n",
      "     |  __gt__(self, value, /)\n",
      "     |      Return self>value.\n",
      "     |  \n",
      "     |  __hash__(self, /)\n",
      "     |      Return hash(self).\n",
      "     |  \n",
      "     |  __iter__(self, /)\n",
      "     |      Implement iter(self).\n",
      "     |  \n",
      "     |  __le__(self, value, /)\n",
      "     |      Return self<=value.\n",
      "     |  \n",
      "     |  __len__(self, /)\n",
      "     |      Return len(self).\n",
      "     |  \n",
      "     |  __lt__(self, value, /)\n",
      "     |      Return self<value.\n",
      "     |  \n",
      "     |  __mul__(self, value, /)\n",
      "     |      Return self*value.n\n",
      "     |  \n",
      "     |  __ne__(self, value, /)\n",
      "     |      Return self!=value.\n",
      "     |  \n",
      "     |  __rmul__(self, value, /)\n",
      "     |      Return self*value.\n",
      "     |  \n",
      "     |  count(...)\n",
      "     |      T.count(value) -> integer -- return number of occurrences of value\n",
      "     |  \n",
      "     |  index(...)\n",
      "     |      T.index(value, [start, [stop]]) -> integer -- return first index of value.\n",
      "     |      Raises ValueError if the value is not present.\n",
      "     |  \n",
      "     |  ----------------------------------------------------------------------\n",
      "     |  Data descriptors inherited from _NetlocResultMixinBytes:\n",
      "     |  \n",
      "     |  _hostinfo\n",
      "     |  \n",
      "     |  _userinfo\n",
      "     |  \n",
      "     |  ----------------------------------------------------------------------\n",
      "     |  Data descriptors inherited from _NetlocResultMixinBase:\n",
      "     |  \n",
      "     |  hostname\n",
      "     |  \n",
      "     |  password\n",
      "     |  \n",
      "     |  port\n",
      "     |  \n",
      "     |  username\n",
      "     |  \n",
      "     |  ----------------------------------------------------------------------\n",
      "     |  Methods inherited from _ResultMixinBytes:\n",
      "     |  \n",
      "     |  decode(self, encoding='ascii', errors='strict')\n",
      "\n",
      "FUNCTIONS\n",
      "    parse_qs(qs, keep_blank_values=False, strict_parsing=False, encoding='utf-8', errors='replace')\n",
      "        Parse a query given as a string argument.\n",
      "        \n",
      "        Arguments:\n",
      "        \n",
      "        qs: percent-encoded query string to be parsed\n",
      "        \n",
      "        keep_blank_values: flag indicating whether blank values in\n",
      "            percent-encoded queries should be treated as blank strings.\n",
      "            A true value indicates that blanks should be retained as\n",
      "            blank strings.  The default false value indicates that\n",
      "            blank values are to be ignored and treated as if they were\n",
      "            not included.\n",
      "        \n",
      "        strict_parsing: flag indicating what to do with parsing errors.\n",
      "            If false (the default), errors are silently ignored.\n",
      "            If true, errors raise a ValueError exception.\n",
      "        \n",
      "        encoding and errors: specify how to decode percent-encoded sequences\n",
      "            into Unicode characters, as accepted by the bytes.decode() method.\n",
      "    \n",
      "    parse_qsl(qs, keep_blank_values=False, strict_parsing=False, encoding='utf-8', errors='replace')\n",
      "        Parse a query given as a string argument.\n",
      "        \n",
      "        Arguments:\n",
      "        \n",
      "        qs: percent-encoded query string to be parsed\n",
      "        \n",
      "        keep_blank_values: flag indicating whether blank values in\n",
      "            percent-encoded queries should be treated as blank strings.  A\n",
      "            true value indicates that blanks should be retained as blank\n",
      "            strings.  The default false value indicates that blank values\n",
      "            are to be ignored and treated as if they were  not included.\n",
      "        \n",
      "        strict_parsing: flag indicating what to do with parsing errors. If\n",
      "            false (the default), errors are silently ignored. If true,\n",
      "            errors raise a ValueError exception.\n",
      "        \n",
      "        encoding and errors: specify how to decode percent-encoded sequences\n",
      "            into Unicode characters, as accepted by the bytes.decode() method.\n",
      "        \n",
      "        Returns a list, as G-d intended.\n",
      "    \n",
      "    quote(string, safe='/', encoding=None, errors=None)\n",
      "        quote('abc def') -> 'abc%20def'\n",
      "        \n",
      "        Each part of a URL, e.g. the path info, the query, etc., has a\n",
      "        different set of reserved characters that must be quoted.\n",
      "        \n",
      "        RFC 2396 Uniform Resource Identifiers (URI): Generic Syntax lists\n",
      "        the following reserved characters.\n",
      "        \n",
      "        reserved    = \";\" | \"/\" | \"?\" | \":\" | \"@\" | \"&\" | \"=\" | \"+\" |\n",
      "                      \"$\" | \",\"\n",
      "        \n",
      "        Each of these characters is reserved in some component of a URL,\n",
      "        but not necessarily in all of them.\n",
      "        \n",
      "        By default, the quote function is intended for quoting the path\n",
      "        section of a URL.  Thus, it will not encode '/'.  This character\n",
      "        is reserved, but in typical usage the quote function is being\n",
      "        called on a path where the existing slash characters are used as\n",
      "        reserved characters.\n",
      "        \n",
      "        string and safe may be either str or bytes objects. encoding and errors\n",
      "        must not be specified if string is a bytes object.\n",
      "        \n",
      "        The optional encoding and errors parameters specify how to deal with\n",
      "        non-ASCII characters, as accepted by the str.encode method.\n",
      "        By default, encoding='utf-8' (characters are encoded with UTF-8), and\n",
      "        errors='strict' (unsupported characters raise a UnicodeEncodeError).\n",
      "    \n",
      "    quote_from_bytes(bs, safe='/')\n",
      "        Like quote(), but accepts a bytes object rather than a str, and does\n",
      "        not perform string-to-bytes encoding.  It always returns an ASCII string.\n",
      "        quote_from_bytes(b'abc def?') -> 'abc%20def%3f'\n",
      "    \n",
      "    quote_plus(string, safe='', encoding=None, errors=None)\n",
      "        Like quote(), but also replace ' ' with '+', as required for quoting\n",
      "        HTML form values. Plus signs in the original string are escaped unless\n",
      "        they are included in safe. It also does not have safe default to '/'.\n",
      "    \n",
      "    unquote(string, encoding='utf-8', errors='replace')\n",
      "        Replace %xx escapes by their single-character equivalent. The optional\n",
      "        encoding and errors parameters specify how to decode percent-encoded\n",
      "        sequences into Unicode characters, as accepted by the bytes.decode()\n",
      "        method.\n",
      "        By default, percent-encoded sequences are decoded with UTF-8, and invalid\n",
      "        sequences are replaced by a placeholder character.\n",
      "        \n",
      "        unquote('abc%20def') -> 'abc def'.\n",
      "    \n",
      "    unquote_plus(string, encoding='utf-8', errors='replace')\n",
      "        Like unquote(), but also replace plus signs by spaces, as required for\n",
      "        unquoting HTML form values.\n",
      "        \n",
      "        unquote_plus('%7e/abc+def') -> '~/abc def'\n",
      "    \n",
      "    unquote_to_bytes(string)\n",
      "        unquote_to_bytes('abc%20def') -> b'abc def'.\n",
      "    \n",
      "    urldefrag(url)\n",
      "        Removes any existing fragment from URL.\n",
      "        \n",
      "        Returns a tuple of the defragmented URL and the fragment.  If\n",
      "        the URL contained no fragments, the second element is the\n",
      "        empty string.\n",
      "    \n",
      "    urlencode(query, doseq=False, safe='', encoding=None, errors=None, quote_via=<function quote_plus at 0x0000000DDAD0FA60>)\n",
      "        Encode a dict or sequence of two-element tuples into a URL query string.\n",
      "        \n",
      "        If any values in the query arg are sequences and doseq is true, each\n",
      "        sequence element is converted to a separate parameter.\n",
      "        \n",
      "        If the query arg is a sequence of two-element tuples, the order of the\n",
      "        parameters in the output will match the order of parameters in the\n",
      "        input.\n",
      "        \n",
      "        The components of a query arg may each be either a string or a bytes type.\n",
      "        \n",
      "        The safe, encoding, and errors parameters are passed down to the function\n",
      "        specified by quote_via (encoding and errors only if a component is a str).\n",
      "    \n",
      "    urljoin(base, url, allow_fragments=True)\n",
      "        Join a base URL and a possibly relative URL to form an absolute\n",
      "        interpretation of the latter.\n",
      "    \n",
      "    urlparse(url, scheme='', allow_fragments=True)\n",
      "        Parse a URL into 6 components:\n",
      "        <scheme>://<netloc>/<path>;<params>?<query>#<fragment>\n",
      "        Return a 6-tuple: (scheme, netloc, path, params, query, fragment).\n",
      "        Note that we don't break the components up in smaller bits\n",
      "        (e.g. netloc is a single string) and we don't expand % escapes.\n",
      "    \n",
      "    urlsplit(url, scheme='', allow_fragments=True)\n",
      "        Parse a URL into 5 components:\n",
      "        <scheme>://<netloc>/<path>?<query>#<fragment>\n",
      "        Return a 5-tuple: (scheme, netloc, path, query, fragment).\n",
      "        Note that we don't break the components up in smaller bits\n",
      "        (e.g. netloc is a single string) and we don't expand % escapes.\n",
      "    \n",
      "    urlunparse(components)\n",
      "        Put a parsed URL back together again.  This may result in a\n",
      "        slightly different, but equivalent URL, if the URL that was parsed\n",
      "        originally had redundant delimiters, e.g. a ? with an empty query\n",
      "        (the draft states that these are equivalent).\n",
      "    \n",
      "    urlunsplit(components)\n",
      "        Combine the elements of a tuple as returned by urlsplit() into a\n",
      "        complete URL as a string. The data argument can be any five-item iterable.\n",
      "        This may result in a slightly different, but equivalent URL, if the URL that\n",
      "        was parsed originally had unnecessary delimiters (for example, a ? with an\n",
      "        empty query; the RFC states that these are equivalent).\n",
      "\n",
      "DATA\n",
      "    __all__ = ['urlparse', 'urlunparse', 'urljoin', 'urldefrag', 'urlsplit...\n",
      "\n",
      "FILE\n",
      "    c:\\programdata\\anaconda3\\lib\\urllib\\parse.py\n",
      "\n",
      "\n"
     ]
    },
    {
     "ename": "NameError",
     "evalue": "name 'lsurllib' is not defined",
     "output_type": "error",
     "traceback": [
      "\u001b[1;31m---------------------------------------------------------------------------\u001b[0m",
      "\u001b[1;31mNameError\u001b[0m                                 Traceback (most recent call last)",
      "\u001b[1;32m<ipython-input-209-a0436f4f01c9>\u001b[0m in \u001b[0;36m<module>\u001b[1;34m()\u001b[0m\n\u001b[0;32m      1\u001b[0m \u001b[0mhelp\u001b[0m\u001b[1;33m(\u001b[0m\u001b[0murllib\u001b[0m\u001b[1;33m.\u001b[0m\u001b[0mparse\u001b[0m\u001b[1;33m)\u001b[0m\u001b[1;33m\u001b[0m\u001b[0m\n\u001b[1;32m----> 2\u001b[1;33m \u001b[0mlsurllib\u001b[0m\u001b[1;33m\u001b[0m\u001b[0m\n\u001b[0m",
      "\u001b[1;31mNameError\u001b[0m: name 'lsurllib' is not defined"
     ]
    }
   ],
   "source": [
    "help(urllib.parse)\n"
   ]
  },
  {
   "cell_type": "code",
   "execution_count": 210,
   "metadata": {},
   "outputs": [
    {
     "ename": "ModuleNotFoundError",
     "evalue": "No module named 'foo'",
     "output_type": "error",
     "traceback": [
      "\u001b[1;31m---------------------------------------------------------------------------\u001b[0m",
      "\u001b[1;31mModuleNotFoundError\u001b[0m                       Traceback (most recent call last)",
      "\u001b[1;32m<ipython-input-210-8c9d193a5d33>\u001b[0m in \u001b[0;36m<module>\u001b[1;34m()\u001b[0m\n\u001b[1;32m----> 1\u001b[1;33m \u001b[1;32mimport\u001b[0m \u001b[0mfoo\u001b[0m\u001b[1;33m.\u001b[0m\u001b[0mbar\u001b[0m\u001b[1;33m\u001b[0m\u001b[0m\n\u001b[0m",
      "\u001b[1;31mModuleNotFoundError\u001b[0m: No module named 'foo'"
     ]
    }
   ],
   "source": [
    "import foo.bar"
   ]
  },
  {
   "cell_type": "code",
   "execution_count": 211,
   "metadata": {},
   "outputs": [
    {
     "ename": "SyntaxError",
     "evalue": "invalid syntax (<ipython-input-211-95ecf1558992>, line 1)",
     "output_type": "error",
     "traceback": [
      "\u001b[1;36m  File \u001b[1;32m\"<ipython-input-211-95ecf1558992>\"\u001b[1;36m, line \u001b[1;32m1\u001b[0m\n\u001b[1;33m    __init__.py:\u001b[0m\n\u001b[1;37m                ^\u001b[0m\n\u001b[1;31mSyntaxError\u001b[0m\u001b[1;31m:\u001b[0m invalid syntax\n"
     ]
    }
   ],
   "source": [
    "__init__.py:\n",
    "    \n",
    "\n",
    "__all__ = [\"bar\"]"
   ]
  },
  {
   "cell_type": "code",
   "execution_count": 212,
   "metadata": {
    "collapsed": true
   },
   "outputs": [],
   "source": [
    "import re"
   ]
  },
  {
   "cell_type": "code",
   "execution_count": 213,
   "metadata": {},
   "outputs": [
    {
     "data": {
      "text/plain": [
       "['A',\n",
       " 'ASCII',\n",
       " 'DEBUG',\n",
       " 'DOTALL',\n",
       " 'I',\n",
       " 'IGNORECASE',\n",
       " 'L',\n",
       " 'LOCALE',\n",
       " 'M',\n",
       " 'MULTILINE',\n",
       " 'RegexFlag',\n",
       " 'S',\n",
       " 'Scanner',\n",
       " 'T',\n",
       " 'TEMPLATE',\n",
       " 'U',\n",
       " 'UNICODE',\n",
       " 'VERBOSE',\n",
       " 'X',\n",
       " '_MAXCACHE',\n",
       " '__all__',\n",
       " '__builtins__',\n",
       " '__cached__',\n",
       " '__doc__',\n",
       " '__file__',\n",
       " '__loader__',\n",
       " '__name__',\n",
       " '__package__',\n",
       " '__spec__',\n",
       " '__version__',\n",
       " '_alphanum_bytes',\n",
       " '_alphanum_str',\n",
       " '_cache',\n",
       " '_compile',\n",
       " '_compile_repl',\n",
       " '_expand',\n",
       " '_locale',\n",
       " '_pattern_type',\n",
       " '_pickle',\n",
       " '_subx',\n",
       " 'compile',\n",
       " 'copyreg',\n",
       " 'enum',\n",
       " 'error',\n",
       " 'escape',\n",
       " 'findall',\n",
       " 'finditer',\n",
       " 'fullmatch',\n",
       " 'functools',\n",
       " 'match',\n",
       " 'purge',\n",
       " 'search',\n",
       " 'split',\n",
       " 'sre_compile',\n",
       " 'sre_parse',\n",
       " 'sub',\n",
       " 'subn',\n",
       " 'template']"
      ]
     },
     "execution_count": 213,
     "metadata": {},
     "output_type": "execute_result"
    }
   ],
   "source": [
    "dir(re)"
   ]
  },
  {
   "cell_type": "code",
   "execution_count": 221,
   "metadata": {},
   "outputs": [
    {
     "name": "stdout",
     "output_type": "stream",
     "text": [
      "['findall', 'finditer']\n"
     ]
    }
   ],
   "source": [
    "Array=dir(re)\n",
    "Res=[]\n",
    "for x in Array:\n",
    "    if (\"find\" in x):\n",
    "        Res.append(x)\n",
    "print(sorted(Res))        "
   ]
  },
  {
   "cell_type": "code",
   "execution_count": null,
   "metadata": {
    "collapsed": true
   },
   "outputs": [],
   "source": []
  }
 ],
 "metadata": {
  "kernelspec": {
   "display_name": "Python 3",
   "language": "python",
   "name": "python3"
  },
  "language_info": {
   "codemirror_mode": {
    "name": "ipython",
    "version": 3
   },
   "file_extension": ".py",
   "mimetype": "text/x-python",
   "name": "python",
   "nbconvert_exporter": "python",
   "pygments_lexer": "ipython3",
   "version": "3.6.1"
  }
 },
 "nbformat": 4,
 "nbformat_minor": 2
}
